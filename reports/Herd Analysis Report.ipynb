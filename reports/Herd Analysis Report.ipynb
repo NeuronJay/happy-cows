{
 "cells": [
  {
   "cell_type": "markdown",
   "metadata": {},
   "source": [
    "# Herd Analysis Report"
   ]
  },
  {
   "cell_type": "markdown",
   "metadata": {},
   "source": [
    "## Background\n",
    "\n",
    "Dairy producers of all sizes are under an ever-present economic pressure to produce more with less to meet the global demand for dairy products.  As a result, farmers need to carefully monitor the environments of their cattle to prevent injury, encourage production, and stop the spread of disease.  As a result, careful examination of input factors such as genetics, nutrition, climate, facilities, and negative health-events may provide actionable insights into ways to modify operations and improve the health, well-being, and production of their herds."
   ]
  },
  {
   "cell_type": "markdown",
   "metadata": {},
   "source": [
    "## Report Objective\n",
    "\n",
    "This report is intended to provide insight and guidance aimed at improving herd health and milk production volumes of a unique herd in Franklin County, Pennsylvania.  The current scope of analysis can be grouped into the following facilities and weather, herd composition, and nutrition.  As a greater breadth of data becomes, available additional insights may be drawn.  This analysis focuses on milk production data for calendar years 2016 and 2017."
   ]
  },
  {
   "cell_type": "markdown",
   "metadata": {},
   "source": [
    "### Findings: Milk Production History\n",
    "\n",
    "For calendar years 2016 and 2017, the total number of animal milked per month ranged from 140 cows to 158 cattle.  The total milk pounds produced per month varied from a low in July 2016 of X milk-pounds to a high of Y in June 2017.  See the following [notebook]() for additional details on plot genereration.\n",
    "\n",
    "TODO: \n",
    "- Clean October 2017\n",
    "- Extract November + December 2017"
   ]
  },
  {
   "cell_type": "markdown",
   "metadata": {},
   "source": [
    "\n",
    "<div class='col-md-12'>\n",
    "    <div class='col-md-6'><img style=\"height:auto\" src=\"figures/unique_animals_per_month.png\"></div>\n",
    "    <div class='col-md-6'><img style=\"height:auto\" src=\"figures/herd_total_milk_per_month.png\"></div>\n",
    "</div>"
   ]
  },
  {
   "cell_type": "markdown",
   "metadata": {},
   "source": [
    "### Findings: Top Producers \n",
    "\n",
    "As indicated by the plots below, the top 25% of the herd produced at least 8561 pounds of milk for 2016, and at least 8739 milk-pounds in 2017.  The median annual production rose of 2% increase in per-animal production from 7017 milk-pounds (2016) to 7158 milk-pounds (2017)."
   ]
  },
  {
   "cell_type": "markdown",
   "metadata": {},
   "source": [
    "<div class='col-md-12'>\n",
    "    <div class='col-md-6'><img style=\"height:auto\" src=\"figures/top_producer_2016.png\"></div>\n",
    "    <div class='col-md-6'><img style=\"height:auto\" src=\"figures/top_producer_2017.png\"></div>\n",
    "</div>"
   ]
  },
  {
   "cell_type": "markdown",
   "metadata": {},
   "source": [
    "In addition, a total of 8 animals were found to be in the top 25 of producers in both 2016 and 2017.  The following chart indicates the milk volumes for these repeat performers."
   ]
  },
  {
   "cell_type": "markdown",
   "metadata": {},
   "source": [
    "<div class='col-md-12'>\n",
    "    <div class='col-md-12'><img style=\"height:auto\" src=\"figures/repeat_performers.png\"></div>\n",
    "</div>"
   ]
  },
  {
   "cell_type": "markdown",
   "metadata": {},
   "source": [
    "## Findings: Facilities and Climate\n",
    "\n",
    "In the years 2015, 2016, and 2017, Franklin County experienced a total of 6 days of where the average of 3 weather stations recorded maximum temperatures greater than 90 degrees, and 33 days where a low of temperature less than 10 degrees was recorded.  The volume of milk produced during and immediately after the extreme temperature days did not see a statistically significant impact on production volumes. As a result, current data suggest that existing facilities and practices have proven sufficiently effective for heat and cold abatement.  The current recommendation is to maintain existing ventilation, cooling, insulation and heating strategies.  Additional capital investment to improve these facilities and practices beyond regular maintenance may not lead to improved milk volumes.  "
   ]
  },
  {
   "cell_type": "markdown",
   "metadata": {},
   "source": [
    "---"
   ]
  },
  {
   "cell_type": "markdown",
   "metadata": {
    "collapsed": true
   },
   "source": [
    "## Appendix\n",
    "### Appendix: Selected Terms\n",
    "\n",
    "The following terms should provide additional context for those unfamiliar with the Dairy Industry.\n",
    "\n",
    "#### Milk Weight (milk-pounds)\n",
    "\n",
    "The amount of milk produced by an animal. Measured in pounds of milk. For reference, a gallon of milk weighs approximately 8.6 pounds.\n",
    "\n",
    "#### Dry Period\n",
    "\n",
    "The period when a cow is not producing milk. Often serves as a time of rest following a lactation period.\n",
    "\n",
    "#### Lactation Period\n",
    "\n",
    "The period when a cow is producing milk.\n",
    "\n",
    "#### Days Since Calving\n",
    "\n",
    "The number of days that have passed since a cow has given birth.\n",
    "\n",
    "#### Linear Classification Score\n",
    "\n",
    "An integer score between 50-99 given to a milk cow, providing a numerical representation of how well a the physical attributes of an animal fits the profile of an 'ideal' milking cow. A weighted summarization of 18+ assessments of a given animal."
   ]
  },
  {
   "cell_type": "markdown",
   "metadata": {},
   "source": [
    "### Appendix: Data Pipeline - Milk Weight\n",
    "\n",
    "#### Description\n",
    "\n",
    "Daily milk-pound production data was derived from the on-site storage from the DeLaval - ALPRO™ herd management system from files such as [this](../references/example_files/milk_volume_example.txt).  Daily log files were collected for a date range spanning from July 2015 to December 2017.  Approximately 15 files were corrupted, and no log files were retained. The results of these milking sessions are captured daily system logs in a series of text files from the local storage. The following lines provide an example of relevant data elements:\n",
    "\n",
    "``` txt\n",
    "04:52:14    R    1831    Cow    Duration1    6:25\n",
    "04:52:14    R    1831    Cow    AverFlow1    3.6\n",
    "04:52:14    R    1831    Cow    PeakFlow1    4.8\n",
    "04:52:14    R    1831    Cow    MilkToday1    23.2\n",
    "```\n",
    "\n",
    "The lines above suggest that Cow #1831 produced 23.2 pounds of milk, in six minutes and twenty-five seconds with an average flow rate of 3.6 lb/min and a peak flow of 4.8 lb/min.  Also, this milking occurred at 04:52:14 am.\n",
    "\n",
    "#### Raw Data Acquisition\n",
    "\n",
    "The system logs were manually retrieved from the herd management system and uploaded into secured private storage utilizing Amazon Web Services (AWS) for on-demand, repeatable retrieval, processing, and backup.\n",
    "\n",
    "#### Data Wrangling\n",
    "\n",
    "Prior to analysis, the contents of each log file are [downloaded via script](../scripts/get_data.py) from AWS and brought into local storage. Each file is [processed individually](../scripts/parse_milk_volume.py) and put into [local storage](../scripts/load_database.py) for future analysis.\n",
    "\n",
    "#### Future Improvments\n",
    "\n",
    "This process can be improved through an automated retrieval, ingestion, and cleansing of daily milk production data.  This process would be enabled by the connection of the herd management system to an active network connection and the creation of automated scripts to conduct daily uploads of production data."
   ]
  },
  {
   "cell_type": "markdown",
   "metadata": {},
   "source": [
    "#### Appendix: Data Pipeline - Linear Classification Score\n",
    "\n",
    "##### Description\n",
    "\n",
    "Linear Classification Scores provide a periodic assessment of the physical attributes of a given animal.  Animals are classified on a scale from 50-99 based on some measured characteristics for comparison against the 'ideal' milking cow.  These [Linear Classification Reports](http://www.holsteinusa.com/programs_services/classification.html)  were conducted by a representative of [Holstein Association USA](http://www.holsteinusa.com/) between August 8, 2014, and July 10, 2017.\n",
    "\n",
    "``` txt\n",
    "8/5/14,,,,,,,,,,,,,,,,,,,,,,,,,,,,,,,\n",
    "BARN_ID,AGE,LAC,DATE_CALVED,ST,SR,BD,DF,RA,RW,LS,RL,LO,FA,FU,UH,UW,UC,UD,TP,RT,TL,UT,CS,FC,DS,RP,FL,MS,FS,E,%BAA\n",
    "1485,7-Jul,6,7/10/14,50,45,44,42,25,35,29,25,25,25,14,26,35,50,5,35,35,35,35,25,92,92,92,82,80,85,,106\n",
    "1542,9-Jun,4,8/6/13,50,35,35,42,15,35,50,25,,25,35,36,35,35,40,25,25,25,26,17,93,93,90,84,93,91,2,113.5\n",
    "```\n",
    "\n",
    "The example above shows the scoring for cows number 1485 and 1542.  The animals received a final linear score of 85 and 91 respectively.  The assessment occurred on August 5, 2014.\n",
    "\n",
    "##### Raw Data Acquisition\n",
    "\n",
    "They were retrieved in the form of paper reports. The contents of the reports were scanned to PDF and parsed into [csv files](../references/example_files/classification_example.csv) using the program [PDF Element by Wondershare](https://pdf.wondershare.com/).  The resulting CSVs were uploaded to a private AWS S3 bucket for on-demand, repeatable retrieval via [script](../scripts/get_data.py)\n",
    "\n",
    "##### Future Improvments\n",
    "\n",
    "This process can be improved through integration with the Holstein USA online systems.  A software integration was explored early in the process, but was abandoned due to cost prohibitive pay-per-drink model per-animal per classification.  In the event of further automation, an alternative data acquisition process would be required to prevent the analysis from becoming too costly."
   ]
  },
  {
   "cell_type": "markdown",
   "metadata": {},
   "source": [
    "### Appendix: Data Pipeline - Genetic Evaluations\n",
    "\n",
    "#### Description\n",
    "\n",
    "[Holstein Association USA](http://www.holsteinusa.com/) conducts additional analysis on individual animal genetics based on availible pedigree data, genomic sequencing, as well as actual production information from the animal and it's genetic siblings where availible.  CTPI and Milk are two values from this report that represent the \n",
    "[CTPI](http://www.holsteinusa.com/genetic_evaluations/ss_tpi_formula.html) as an aggregated indicator of milking performance and Milk as an indicator focused solely on likelyhood of higher volumes of milk production.  In both cases higher values are more favorable.\n",
    "\n",
    "``` csv\n",
    "ANIMAL_ID,NAME,FS,PRO,%P,Fat,%F,Rel,Milk,SCS,PL,DPR,TYPE,REL,UDC,FLC,CTPI\n",
    "1999 ,\"     BELSHWAY PLANET 1999\n",
    "     USA 71404944100-NA12/12/2012\",86 ,49,-0.02,40,-0.09,50 ,1772,2.94 ,3.4,0.2,1.34,53 ,0.55,-0.29 ,2198\n",
    "2043 ,\"     BELSHWAY MASSEY 2043\n",
    "     USA 72758233100-NA 06/26/2013\",79 ,36,0.01,38,-0.01,47 ,1132,2.76 ,3.6,-0.2,0.94,53 ,0.66,0.94 ,2150\n",
    "```\n",
    "\n",
    "The example above indicates that animal with the ID of 1999 had a Milk Indicator of  1772 a CTPI of 2198.  Cow #2043 had a milk indicator of 1132.\n",
    "\n",
    "#### Raw Data Acquisition\n",
    "\n",
    "They were retrieved in the form of paper reports. The contents of the reports were scanned to PDF and parsed into csv files using the program [PDF Element by Wondershare](https://pdf.wondershare.com/).  The resulting CSVs were uploaded to a private AWS S3 bucket for on-demand, repeatable retrieval via [script](../scripts/get_data.py)\n",
    "\n",
    "#### Future Improvments\n",
    "\n",
    "This portion of the data pipeline can be improved through integration with the Holstein USA online systems.  A software integration was explored early in the process, but was abandoned due to cost prohibitive pay-per-drink model.  The expected format of the [CTPI](http://www.holsteinusa.com/genetic_evaluations/Topctpi.html) report is availble online.  In the event of further automation, an alternative data acquisition process would be required to prevent this analysis from becoming too costly."
   ]
  },
  {
   "cell_type": "markdown",
   "metadata": {},
   "source": [
    "### Appendix: Data Pipeline - Weather Data\n",
    "\n",
    "#### Description\n",
    "\n",
    "The weather data set consists of daily summaries of weather measurements for Franklin County, Pennsylvania such as low temperature, high temperature, and total precipitation.  The following provides an example of the csv file format.\n",
    "\n",
    "```\n",
    "STATION,NAME,LATITUDE,LONGITUDE,ELEVATION,DATE,PRCP,PRCP_ATTRIBUTES,SNOW,SNOW_ATTRIBUTES,SNWD,SNWD_ATTRIBUTES,TMAX,TMAX_ATTRIBUTES,TMIN,TMIN_ATTRIBUTES,TOBS,TOBS_ATTRIBUTES,WESD,WESD_ATTRIBUTES,WESF,WESF_ATTRIBUTES,WT01,WT01_ATTRIBUTES,WT03,WT03_ATTRIBUTES,WT04,WT04_ATTRIBUTES,WT06,WT06_ATTRIBUTES,WT11,WT11_ATTRIBUTES\n",
    "USC00361354,\"CHAMBERSBURG, PA US\",39.9353,-77.6394,195.1,2016-01-01,0,\",,7,2100\",0,\",,7\",0,\",,7\",38,\",,7\",34,\",,7\",34,\",,7,2100\",,,,,,,,,,,,,,\n",
    "USC00361354,\"CHAMBERSBURG, PA US\",39.9353,-77.6394,195.1,2016-01-02,0,\",,7,2100\",0,\",,7\",0,\",,7\",42,\",,7\",28,\",,7\",29,\",,7,2100\",,,,,,,,,,,,,,\n",
    "\n",
    "```\n",
    "\n",
    "#### Raw Data Acquisition\n",
    "\n",
    "The CSV files were requested from the [NOAA Online Climate Data Online Search](https://www.ncdc.noaa.gov/cdo-web/search) for full calendar year 2014, 2015, and 2016, and then again for all available data in 2017.  The resulting CSV files were uploaded to AWS S3 to be programmatically retrieved by the script [get_data.py](../scripts/get_data.py). The raw files are processed by in the script [parse_weather.py](../scripts/parse_weather.py) to produce daily weather summaries.\n",
    "\n",
    "#### Future Improvments\n",
    "\n",
    "To automate the retrieval of ongoing weather information, the analysis could be supplemented with scripted interaction with the [NOAA weather API](https://www.ncdc.noaa.gov/cdo-web/webservices/v2)."
   ]
  },
  {
   "cell_type": "code",
   "execution_count": null,
   "metadata": {
    "collapsed": true
   },
   "outputs": [],
   "source": []
  }
 ],
 "metadata": {
  "kernelspec": {
   "display_name": "Python 3",
   "language": "python",
   "name": "python3"
  },
  "language_info": {
   "codemirror_mode": {
    "name": "ipython",
    "version": 3
   },
   "file_extension": ".py",
   "mimetype": "text/x-python",
   "name": "python",
   "nbconvert_exporter": "python",
   "pygments_lexer": "ipython3",
   "version": "3.6.3"
  }
 },
 "nbformat": 4,
 "nbformat_minor": 2
}
