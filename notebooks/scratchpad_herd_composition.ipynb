{
 "cells": [
  {
   "cell_type": "code",
   "execution_count": 3,
   "metadata": {
    "collapsed": true
   },
   "outputs": [],
   "source": [
    "import sys\n",
    "sys.path.insert(0, '../scripts')\n",
    "sys.path.insert(0, '../data/database')\n",
    "from sqlalchemy import create_engine\n",
    "import pandas as pd\n",
    "import numpy as np\n",
    "import matplotlib.pyplot as plt\n",
    "import matplotlib.dates as pld\n",
    "import seaborn as sns\n",
    "import datetime\n",
    "sns.set()"
   ]
  },
  {
   "cell_type": "code",
   "execution_count": 7,
   "metadata": {
    "collapsed": true
   },
   "outputs": [],
   "source": [
    "def retrieve_data():\n",
    "    engine =  create_engine('sqlite:///../data/database/happycows.db')\n",
    "    with engine.connect() as con:\n",
    "        milk = pd.read_sql_table('milk_volume', con).set_index(['date'])\n",
    "        #score = pd.read_sql_table('classification', con).set_index(['date'])\n",
    "    return milk"
   ]
  },
  {
   "cell_type": "code",
   "execution_count": 8,
   "metadata": {},
   "outputs": [],
   "source": [
    "milk = retrieve_data()\n",
    "milk_2016 = milk['2016-01-01':'2016-12-31']\n",
    "milk_2017 = milk['2016-01-01':'2016-12-31']"
   ]
  },
  {
   "cell_type": "code",
   "execution_count": null,
   "metadata": {
    "collapsed": true
   },
   "outputs": [],
   "source": []
  },
  {
   "cell_type": "code",
   "execution_count": 50,
   "metadata": {
    "collapsed": true
   },
   "outputs": [],
   "source": [
    "def build_monthly_herd_summary(milk):\n",
    "    milk = milk.reset_index()\n",
    "    \n",
    "    monthly_summary = pd.DataFrame()\n",
    "    # Number of Animals\n",
    "    monthly_summary['animal_count'] = milk.groupby('date')['animal_id'].nunique().resample('M').mean()\n",
    "    # Average Milk Weight Per Animal per Month\n",
    "    monthly_summary['weight'] = milk.groupby('date')['milk_weight'].mean().resample('M').mean()\n",
    "    \n",
    "    monthly_summary = monthly_summary.reset_index()\n",
    "    monthly_summary['label'] = monthly_summary['date'].apply(lambda x: datetime.datetime.strftime(x, r\"%b-%y\"))\n",
    "    \n",
    "    return monthly_summary.set_index('date')"
   ]
  },
  {
   "cell_type": "code",
   "execution_count": 51,
   "metadata": {
    "collapsed": true
   },
   "outputs": [],
   "source": [
    "def plot_monthly_summary(milk, year):\n",
    "    data = build_monthly_herd_summary(milk)\n",
    "    x = pld.date2num(data.index.to_pydatetime())\n",
    "    y = data['animal_count']\n",
    "\n",
    "    ax = plt.subplot(111)\n",
    "    plt.bar(x, y, width=20)\n",
    "    ax.xaxis_date()\n",
    "    labels = ['January', 'February', 'March', 'April', ' ']\n",
    "    _ = plt.ylabel('Animal Count')\n",
    "    _ = plt.xlabel('Month')\n",
    "    _ = plt.xticks(rotation='vertical')\n",
    "    _ = plt.title('Total Animals Milked by Month')\n",
    "    plt.show()"
   ]
  },
  {
   "cell_type": "code",
   "execution_count": 52,
   "metadata": {
    "collapsed": true
   },
   "outputs": [],
   "source": [
    "monthly_summary = build_monthly_herd_summary(milk)"
   ]
  },
  {
   "cell_type": "code",
   "execution_count": 53,
   "metadata": {},
   "outputs": [
    {
     "data": {
      "image/png": "[encoded data removed]",
      "text/plain": [
       "<matplotlib.figure.Figure at 0x1a2235f160>"
      ]
     },
     "metadata": {},
     "output_type": "display_data"
    }
   ],
   "source": [
    "plot_monthly_summary(milk)"
   ]
  },
  {
   "cell_type": "code",
   "execution_count": 54,
   "metadata": {
    "collapsed": true
   },
   "outputs": [],
   "source": [
    "def plot_daily_milk_averages(milk):\n",
    "    sns.violinplot(milk.groupby('date')['milk_weight'].mean(), orient='vertical')\n",
    "    _ = plt.ylabel('Milk Weight (Lb)')\n",
    "    _ = plt.title('Average Daily Per Animal Milk Producttion')\n",
    "    plt.show()"
   ]
  },
  {
   "cell_type": "code",
   "execution_count": 9,
   "metadata": {},
   "outputs": [
    {
     "data": {
      "text/plain": [
       "0.020094057289439932"
      ]
     },
     "execution_count": 9,
     "metadata": {},
     "output_type": "execute_result"
    }
   ],
   "source": [
    "(7158 - 7017) / 7017"
   ]
  },
  {
   "cell_type": "code",
   "execution_count": null,
   "metadata": {
    "collapsed": true
   },
   "outputs": [],
   "source": []
  }
 ],
 "metadata": {
  "kernelspec": {
   "display_name": "Python 3",
   "language": "python",
   "name": "python3"
  },
  "language_info": {
   "codemirror_mode": {
    "name": "ipython",
    "version": 3
   },
   "file_extension": ".py",
   "mimetype": "text/x-python",
   "name": "python",
   "nbconvert_exporter": "python",
   "pygments_lexer": "ipython3",
   "version": "3.6.3"
  }
 },
 "nbformat": 4,
 "nbformat_minor": 2
}
