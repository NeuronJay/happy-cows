{
 "cells": [
  {
   "cell_type": "code",
   "execution_count": 38,
   "metadata": {
    "collapsed": true
   },
   "outputs": [],
   "source": [
    "# special IPython command to prepare the notebook for matplotlib and other libraries\n",
    "%matplotlib inline \n",
    "\n",
    "import numpy as np\n",
    "import pandas as pd\n",
    "from sqlalchemy import create_engine\n",
    "import seaborn as sns"
   ]
  },
  {
   "cell_type": "code",
   "execution_count": 39,
   "metadata": {
    "collapsed": true
   },
   "outputs": [],
   "source": [
    "def retrieve_data():\n",
    "    engine =  create_engine('sqlite:///../data/database/happycows.db')\n",
    "    with engine.connect() as con:\n",
    "        milk = pd.read_sql_table('milk_volume', con)\n",
    "        weather = pd.read_sql_table('weather', con)\n",
    "        score = pd.read_sql_table('classification', con)\n",
    "    return milk, weather, score\n",
    "\n",
    "def merge_data(milk, weather, score):\n",
    "    milk.reset_index()\n",
    "    weather.reset_index()\n",
    "    score.reset_index()\n",
    "    m = pd.merge(left=milk, right=weather, left_on='date', right_on='date')\n",
    "    m = pd.merge(left=m, right=score, left_on='animal_id', right_on='animal_id')\n",
    "    m = m.reset_index()\n",
    "    return m\n",
    "\n",
    "def select_features(data):\n",
    "    milk_features = ['milk_weight', 'average_flow', 'max_flow']\n",
    "    weather_features =  ['tmax', 'tmin', 'is_hot', 'is_cold', 'is_heatwave', 'is_coldwave']\n",
    "    score_features =  ['final_score', 'dairy_strength_aggregate', 'udder_score_aggregate', 'category']\n",
    "    features = milk_features + weather_features + score_features\n",
    "    data = data[features].dropna(axis=0, how='any')\n",
    "    return pd.get_dummies(data, drop_first=True)\n",
    "\n",
    "def get_data():\n",
    "    milk, weather, score = retrieve_data()\n",
    "    data = merge_data(milk, weather, score)\n",
    "    return select_features(data)    "
   ]
  },
  {
   "cell_type": "code",
   "execution_count": 40,
   "metadata": {},
   "outputs": [
    {
     "data": {
      "text/html": [
       "<div>\n",
       "<style>\n",
       "    .dataframe thead tr:only-child th {\n",
       "        text-align: right;\n",
       "    }\n",
       "\n",
       "    .dataframe thead th {\n",
       "        text-align: left;\n",
       "    }\n",
       "\n",
       "    .dataframe tbody tr th {\n",
       "        vertical-align: top;\n",
       "    }\n",
       "</style>\n",
       "<table border=\"1\" class=\"dataframe\">\n",
       "  <thead>\n",
       "    <tr style=\"text-align: right;\">\n",
       "      <th></th>\n",
       "      <th>milk_weight</th>\n",
       "      <th>average_flow</th>\n",
       "      <th>max_flow</th>\n",
       "      <th>tmax</th>\n",
       "      <th>tmin</th>\n",
       "      <th>is_hot</th>\n",
       "      <th>is_cold</th>\n",
       "      <th>is_heatwave</th>\n",
       "      <th>is_coldwave</th>\n",
       "      <th>final_score</th>\n",
       "      <th>dairy_strength_aggregate</th>\n",
       "      <th>udder_score_aggregate</th>\n",
       "      <th>category_Fair</th>\n",
       "      <th>category_Good</th>\n",
       "      <th>category_Good Plus</th>\n",
       "      <th>category_Very Good</th>\n",
       "    </tr>\n",
       "  </thead>\n",
       "  <tbody>\n",
       "    <tr>\n",
       "      <th>41444</th>\n",
       "      <td>25.8</td>\n",
       "      <td>5.00</td>\n",
       "      <td>7.6</td>\n",
       "      <td>83.0</td>\n",
       "      <td>66.0</td>\n",
       "      <td>False</td>\n",
       "      <td>False</td>\n",
       "      <td>False</td>\n",
       "      <td>False</td>\n",
       "      <td>80.0</td>\n",
       "      <td>83.0</td>\n",
       "      <td>83.0</td>\n",
       "      <td>0</td>\n",
       "      <td>0</td>\n",
       "      <td>1</td>\n",
       "      <td>0</td>\n",
       "    </tr>\n",
       "    <tr>\n",
       "      <th>153163</th>\n",
       "      <td>29.9</td>\n",
       "      <td>3.15</td>\n",
       "      <td>4.4</td>\n",
       "      <td>34.5</td>\n",
       "      <td>25.5</td>\n",
       "      <td>False</td>\n",
       "      <td>False</td>\n",
       "      <td>False</td>\n",
       "      <td>False</td>\n",
       "      <td>76.0</td>\n",
       "      <td>79.0</td>\n",
       "      <td>76.0</td>\n",
       "      <td>0</td>\n",
       "      <td>1</td>\n",
       "      <td>0</td>\n",
       "      <td>0</td>\n",
       "    </tr>\n",
       "    <tr>\n",
       "      <th>142516</th>\n",
       "      <td>42.1</td>\n",
       "      <td>3.65</td>\n",
       "      <td>5.8</td>\n",
       "      <td>78.5</td>\n",
       "      <td>56.5</td>\n",
       "      <td>False</td>\n",
       "      <td>False</td>\n",
       "      <td>False</td>\n",
       "      <td>False</td>\n",
       "      <td>74.0</td>\n",
       "      <td>83.0</td>\n",
       "      <td>81.0</td>\n",
       "      <td>1</td>\n",
       "      <td>0</td>\n",
       "      <td>0</td>\n",
       "      <td>0</td>\n",
       "    </tr>\n",
       "  </tbody>\n",
       "</table>\n",
       "</div>"
      ],
      "text/plain": [
       "        milk_weight  average_flow  max_flow  tmax  tmin  is_hot  is_cold  \\\n",
       "41444          25.8          5.00       7.6  83.0  66.0   False    False   \n",
       "153163         29.9          3.15       4.4  34.5  25.5   False    False   \n",
       "142516         42.1          3.65       5.8  78.5  56.5   False    False   \n",
       "\n",
       "        is_heatwave  is_coldwave  final_score  dairy_strength_aggregate  \\\n",
       "41444         False        False         80.0                      83.0   \n",
       "153163        False        False         76.0                      79.0   \n",
       "142516        False        False         74.0                      83.0   \n",
       "\n",
       "        udder_score_aggregate  category_Fair  category_Good  \\\n",
       "41444                    83.0              0              0   \n",
       "153163                   76.0              0              1   \n",
       "142516                   81.0              1              0   \n",
       "\n",
       "        category_Good Plus  category_Very Good  \n",
       "41444                    1                   0  \n",
       "153163                   0                   0  \n",
       "142516                   0                   0  "
      ]
     },
     "execution_count": 40,
     "metadata": {},
     "output_type": "execute_result"
    }
   ],
   "source": [
    "data = get_data()\n",
    "data.sample(3)"
   ]
  },
  {
   "cell_type": "code",
   "execution_count": 41,
   "metadata": {
    "collapsed": true
   },
   "outputs": [],
   "source": [
    "y = data['milk_weight']\n",
    "X = data.drop(labels=['milk_weight'], axis=1)"
   ]
  },
  {
   "cell_type": "code",
   "execution_count": 42,
   "metadata": {
    "collapsed": true
   },
   "outputs": [],
   "source": [
    "from sklearn.preprocessing import Imputer\n",
    "from sklearn.pipeline import Pipeline\n",
    "from sklearn.preprocessing import Imputer\n",
    "from sklearn.linear_model import Lasso\n",
    "from sklearn.model_selection import GridSearchCV\n",
    "from sklearn.model_selection import train_test_split"
   ]
  },
  {
   "cell_type": "code",
   "execution_count": 43,
   "metadata": {},
   "outputs": [
    {
     "name": "stdout",
     "output_type": "stream",
     "text": [
      "Tuned Lasso Alpha: {'lasso__alpha': 0.050000000000000003}\n",
      "Tuned Lasso R squared: 0.12156875194814032\n"
     ]
    }
   ],
   "source": [
    "# Setup the pipeline steps: steps\n",
    "steps = [('imputation', Imputer(missing_values='NaN', strategy='median', axis=0)),\n",
    "         ('lasso', Lasso())]\n",
    "\n",
    "# Create the pipeline: pipeline \n",
    "pipeline = Pipeline(steps)\n",
    "\n",
    "# Specify the hyperparameter space\n",
    "parameters = {'lasso__alpha':np.arange(0.05, 1.0, 0.05)}\n",
    "\n",
    "# Create train and test sets\n",
    "X_train, X_test, y_train, y_test = train_test_split(X, y, test_size=0.4, random_state=42)\n",
    "\n",
    "# Create the GridSearchCV object: gm_cv\n",
    "m_cv = GridSearchCV(pipeline, cv=3, param_grid=parameters)\n",
    "\n",
    "# Fit to the training set\n",
    "m_cv.fit(X_train, y_train)\n",
    "\n",
    "# Compute and print the metrics\n",
    "r2 = m_cv.score(X_test, y_test)\n",
    "print(\"Tuned Lasso Alpha: {}\".format(gm_cv.best_params_))\n",
    "print(\"Tuned Lasso R squared: {}\".format(r2))\n",
    "\n",
    "y_pred = m_cv.predict(X_test)"
   ]
  },
  {
   "cell_type": "code",
   "execution_count": 44,
   "metadata": {},
   "outputs": [
    {
     "data": {
      "image/png": "[encoded data removed]",
      "text/plain": [
       "<matplotlib.figure.Figure at 0x1a15a6a8d0>"
      ]
     },
     "metadata": {},
     "output_type": "display_data"
    }
   ],
   "source": [
    "plt.scatter(y_test, y_pred)\n",
    "plt.plot([0,200],[0,200])\n",
    "plt.xlabel('Milk Weight Actual')\n",
    "plt.ylabel('Milk Weight Predicted')\n",
    "plt.show()"
   ]
  }
 ],
 "metadata": {
  "kernelspec": {
   "display_name": "Python 3",
   "language": "python",
   "name": "python3"
  },
  "language_info": {
   "codemirror_mode": {
    "name": "ipython",
    "version": 3
   },
   "file_extension": ".py",
   "mimetype": "text/x-python",
   "name": "python",
   "nbconvert_exporter": "python",
   "pygments_lexer": "ipython3",
   "version": "3.6.3"
  }
 },
 "nbformat": 4,
 "nbformat_minor": 2
}
