{
 "cells": [
  {
   "cell_type": "markdown",
   "metadata": {},
   "source": [
    "# Shared imports and methods for report plot generation notebooks"
   ]
  },
  {
   "cell_type": "code",
   "execution_count": 1,
   "metadata": {
    "collapsed": true
   },
   "outputs": [],
   "source": [
    "# Data Manipulation\n",
    "%matplotlib inline \n",
    "import numpy as np\n",
    "import pandas as pd\n",
    "import matplotlib.pyplot as plt\n",
    "\n",
    "# Data Retrieval\n",
    "from sqlalchemy import create_engine\n",
    "\n",
    "#Visualiztion\n",
    "import seaborn as sns\n",
    "sns.set('notebook')"
   ]
  },
  {
   "cell_type": "code",
   "execution_count": 2,
   "metadata": {
    "collapsed": true
   },
   "outputs": [],
   "source": [
    "def get_dataset(datasetname='dataset'):\n",
    "    \"\"\"Retreive the full contents of a single table from the local database.  Returns values as a dataframe.\n",
    "    \n",
    "        Current valid values are:\n",
    "        - 'birthdates'\n",
    "        - 'calvings'\n",
    "        - 'classifications'\n",
    "        - 'genetics'\n",
    "        - 'milk_volumes'\n",
    "        - 'weather'\n",
    "    \"\"\"\n",
    "    path_to_database = 'sqlite:///../../data/database/happycows.db'\n",
    "    engine = create_engine(path_to_database)\n",
    "    with engine.connect() as con:\n",
    "        data = pd.read_sql_table(datasetname, con)\n",
    "    return data"
   ]
  },
  {
   "cell_type": "code",
   "execution_count": 3,
   "metadata": {
    "collapsed": true
   },
   "outputs": [],
   "source": [
    "def save_plot_for_summary_report(file_name=\"\"):\n",
    "    \"\"\"When called after a plot has been generated will attempt to place in appropriate folder for final report.\"\"\"\n",
    "    path = '../../reports/figures/' + file_name\n",
    "    plt.savefig(path, dpi=300, bbox_inches='tight')"
   ]
  }
 ],
 "metadata": {
  "kernelspec": {
   "display_name": "Python 3",
   "language": "python",
   "name": "python3"
  },
  "language_info": {
   "codemirror_mode": {
    "name": "ipython",
    "version": 3
   },
   "file_extension": ".py",
   "mimetype": "text/x-python",
   "name": "python",
   "nbconvert_exporter": "python",
   "pygments_lexer": "ipython3",
   "version": "3.6.3"
  }
 },
 "nbformat": 4,
 "nbformat_minor": 2
}
