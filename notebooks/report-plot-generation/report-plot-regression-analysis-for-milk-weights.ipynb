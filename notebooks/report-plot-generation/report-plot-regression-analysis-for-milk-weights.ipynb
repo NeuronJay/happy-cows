{
 "cells": [
  {
   "cell_type": "markdown",
   "metadata": {},
   "source": [
    "# Plot for Summary Report: Regression Analysis And 2018 Projections"
   ]
  },
  {
   "cell_type": "code",
   "execution_count": 53,
   "metadata": {
    "collapsed": true
   },
   "outputs": [],
   "source": [
    "%run 'helpers-for-report-plot-generation.ipynb'"
   ]
  },
  {
   "cell_type": "code",
   "execution_count": 70,
   "metadata": {},
   "outputs": [],
   "source": [
    "# Get Data\n",
    "def get_data():\n",
    "    \"\"\"Get raw data from local database\"\"\"\n",
    "    milk = get_dataset('milk_volume')\n",
    "    birthdates = get_dataset('birthdates')\n",
    "    genetics = get_dataset('genetics')\n",
    "    classification = get_dataset('classification')\n",
    "        \n",
    "    return select_milk_features(milk), \\\n",
    "           select_birthdate_features(birthdates), \\\n",
    "           select_genetics_features(genetics), \\\n",
    "           select_classification_features(classification)\n",
    "    \n",
    "def select_milk_features(milk):\n",
    "    \"\"\"Prepare and select milk features\"\"\"\n",
    "    \n",
    "    milk = milk.rename(columns={'date':'milk_date'})\n",
    "    milk = milk.dropna(axis=0, how='any')\n",
    "    milk = milk.sort_values(['milk_date', 'animal_id']).reset_index()\n",
    "    \n",
    "    features = ['animal_id', 'milk_date', 'days_since_calving']\n",
    "    return milk[features]\n",
    "\n",
    "def select_birthdate_features(birthdates):\n",
    "    \"\"\"Prepare and select birthdate features\"\"\"\n",
    "    \n",
    "    birthdates = birthdates.sort_values(['birthdate']).reset_index()\n",
    "    \n",
    "    features = ['animal_id', 'birthdate']\n",
    "    return birthdates[features]\n",
    "\n",
    "def select_genetics_features(genetics):\n",
    "    \"\"\"Prepare and select genetics features\"\"\"\n",
    "    genetics = genetics.rename(columns={'milk':'milk_score'})\n",
    "    \n",
    "    features = ['animal_id', 'milk_score', 'ctpi']\n",
    "    return genetics[features]\n",
    "\n",
    "def select_classification_features(classifications):\n",
    "    \"\"\"Prepare and select genetics features\"\"\"\n",
    "    \n",
    "    classifications = classifications.sort_values(['animal_id', 'date'])\n",
    "    classifications = classifications.drop_duplicates(subset=['animal_id'], keep='last').reset_index()\n",
    "    classifications = classifications.fillna(classifications.mean()) \n",
    "    \n",
    "    features = ['animal_id', 'dairy_form', 'udder_score_aggregate', 'dairy_strength_aggregate', \\\n",
    "                'final_score', 'breed_age_average']\n",
    "    return classifications[features]"
   ]
  },
  {
   "cell_type": "code",
   "execution_count": 71,
   "metadata": {},
   "outputs": [],
   "source": [
    "milk, birthdates, genetics, classification = get_data()\n"
   ]
  },
  {
   "cell_type": "code",
   "execution_count": null,
   "metadata": {
    "collapsed": true
   },
   "outputs": [],
   "source": []
  }
 ],
 "metadata": {
  "kernelspec": {
   "display_name": "Python 3",
   "language": "python",
   "name": "python3"
  },
  "language_info": {
   "codemirror_mode": {
    "name": "ipython",
    "version": 3
   },
   "file_extension": ".py",
   "mimetype": "text/x-python",
   "name": "python",
   "nbconvert_exporter": "python",
   "pygments_lexer": "ipython3",
   "version": "3.6.3"
  }
 },
 "nbformat": 4,
 "nbformat_minor": 2
}
