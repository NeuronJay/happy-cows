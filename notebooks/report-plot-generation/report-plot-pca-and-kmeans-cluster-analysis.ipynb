{
 "cells": [
  {
   "cell_type": "markdown",
   "metadata": {},
   "source": [
    "# Plot for Summary Report: PCA and K-Means Clustering"
   ]
  },
  {
   "cell_type": "code",
   "execution_count": 1,
   "metadata": {
    "collapsed": true
   },
   "outputs": [],
   "source": [
    "%run 'helpers-for-report-plot-generation.ipynb'\n",
    "from datetime import datetime"
   ]
  },
  {
   "cell_type": "code",
   "execution_count": 2,
   "metadata": {
    "collapsed": true
   },
   "outputs": [],
   "source": [
    "def get_raw_data():\n",
    "    \"\"\"Get raw data from local database\"\"\"\n",
    "    milk = get_dataset('milk_volume')\n",
    "    birthdates = get_dataset('birthdates')\n",
    "    genetics = get_dataset('genetics')\n",
    "    classification = get_dataset('classification')\n",
    "        \n",
    "    return milk, birthdates, genetics, classification\n",
    "\n",
    "def transform_milk(data):\n",
    "    \"\"\"Transform milk features\"\"\"\n",
    "    features = ['animal_id','date','milk_weight']\n",
    "    return data[features]\n",
    "\n",
    "def transform_genetics(data):\n",
    "    \"\"\"Transform and select genetics features\"\"\"\n",
    "    data = data.drop(axis=1, labels=['name'])\n",
    "    print('\\nCurrently Available Genetics Features: \\n', data.columns.values)\n",
    "    features = ['animal_id', 'milk', 'ctpi', 'udc']\n",
    "    print('\\nSelected Genetics Features: \\n', features)\n",
    "    data = data.drop_duplicates(subset=['animal_id'], keep='last')\n",
    "    return data.fillna(data.mean())[features]\n",
    "\n",
    "def transform_classification(data):\n",
    "    \"\"\"Transform and select classification features\"\"\"\n",
    "    data = data.drop(axis=1, labels=['category', 'age', 'date_calved', 'date'])\n",
    "    print('\\nCurrently Available Classification Features: \\n', data.columns.values)\n",
    "    features = ['animal_id', 'milk', 'ctpi', 'udc']\n",
    "    print('\\nSelected Classification Features: \\n', features)\n",
    "    features = ['animal_id', 'final_score', 'breed_age_average']\n",
    "    data = data.drop_duplicates(subset=['animal_id'], keep='last')\n",
    "    return data.fillna(data.mean())[features]\n",
    "\n",
    "def number_of_days_in_period(start, end):\n",
    "    \"\"\"Gets number of days between two string dates\"\"\"\n",
    "    end = datetime.strptime(end, '%m-%d-%Y')\n",
    "    start = datetime.strptime(start, '%m-%d-%Y')\n",
    "    return (start - end).days\n",
    "\n",
    "def build_performance_profiles_for_period(milk, birthdates, start='1-1-2016', end='12-31-2017'):\n",
    "    \"\"\"Build summary performance profiles for date range\"\"\"\n",
    "    period_milk = milk.set_index('date')[start:end]\n",
    "    period_milk = pd.merge(left=period_milk, right=birthdates, left_on='animal_id', right_on='animal_id')\n",
    "    \n",
    "    days_in_period = number_of_days_in_period(start, end)\n",
    "    \n",
    "    profiles = []\n",
    "    for animal_id in period_milk['animal_id'].unique():\n",
    "        animal_milk_for_period = period_milk[period_milk['animal_id'] ==  animal_id]\n",
    "        \n",
    "        profile = {}\n",
    "        profile['animal_id'] = animal_id \n",
    "        profile['days_milked'] = animal_milk_for_period.count()['animal_id']\n",
    "        profile['total_milkweight'] = animal_milk_for_period['milk_weight'].sum()\n",
    "        profile['daily_milkweight'] = round(animal_milk_for_period['milk_weight'].mean(), 2)\n",
    "        \n",
    "        birthdate = pd.to_datetime(animal_milk_for_period['birthdate'].values[0]).strftime('%m-%d-%Y')\n",
    "        \n",
    "        profile['days_aged'] = number_of_days_in_period(end, birthdate)\n",
    "        \n",
    "        profiles.append(profile)\n",
    "        \n",
    "    data = pd.DataFrame(profiles)\n",
    "    data = data.sort_values('daily_milkweight')\n",
    "    return data\n",
    "\n",
    "def merge_data(performance_profiles, genetics, classification):\n",
    "    \"\"\"Merge datasets performance_profiles, genetics, classifications into single dataset\"\"\"\n",
    "    data = pd.merge(left=performance_profiles, right=genetics, left_on='animal_id', right_on='animal_id')\n",
    "    data = pd.merge(left=data, right=classification, left_on='animal_id', right_on='animal_id')\n",
    "    return data\n",
    "\n",
    "def get_dataset_for_analysis():\n",
    "    \"\"\"Get transformed dataset for PCA analysis\"\"\"\n",
    "    milk, birthdates, genetics, classification = get_raw_data()\n",
    "    \n",
    "    milk = transform_milk(milk)\n",
    "\n",
    "    performance_profiles = build_performance_profiles_for_period(milk, birthdates)\n",
    "    \n",
    "    genetics = transform_genetics(genetics)\n",
    "    classification = transform_classification(classification)\n",
    "    \n",
    "    return merge_data(performance_profiles, genetics, classification)"
   ]
  },
  {
   "cell_type": "code",
   "execution_count": 3,
   "metadata": {},
   "outputs": [
    {
     "name": "stdout",
     "output_type": "stream",
     "text": [
      "\n",
      "Currently Available Genetics Features: \n",
      " ['level_0' 'index' 'animal_id' 'pro' '%p' 'fat' '%f' 'rel' 'milk' 'scs'\n",
      " 'pl' 'dpr' 'type' 'udc' 'flc' 'ctpi']\n",
      "\n",
      "Selected Genetics Features: \n",
      " ['animal_id', 'milk', 'ctpi', 'udc']\n",
      "\n",
      "Currently Available Classification Features: \n",
      " ['index' 'animal_id' 'lactation_count' 'stature' 'strength' 'body_depth'\n",
      " 'dairy_form' 'rump_angle' 'rump_width' 'rear_legs_side' 'rear_legs_rear'\n",
      " 'locomotion' 'foot_angle' 'fore_udder' 'udder_height' 'udder_width'\n",
      " 'udder_cleft' 'udder_depth' 'front_teat_placement' 'rear_teat_placement'\n",
      " 'teat_length' 'udder_tilt' 'body_condition' 'front_end_capacity_aggregate'\n",
      " 'dairy_strength_aggregate' 'rump_aggregate' 'feet_and_legs_aggregate'\n",
      " 'udder_score_aggregate' 'final_score' 'breed_age_average']\n",
      "\n",
      "Selected Classification Features: \n",
      " ['animal_id', 'milk', 'ctpi', 'udc']\n"
     ]
    }
   ],
   "source": [
    "data = get_dataset_for_analysis().sort_values('total_milkweight')\n",
    "data = data[data['days_milked'] > 350]"
   ]
  },
  {
   "cell_type": "code",
   "execution_count": 4,
   "metadata": {
    "collapsed": true
   },
   "outputs": [],
   "source": [
    "# Get top and bottom percentages of the herd\n",
    "count = data.count()['animal_id']\n",
    "percentage = 0.1\n",
    "\n",
    "top_ids = data.head(int(count * percentage))['animal_id']\n",
    "bot_ids = data.tail(int(count * percentage))['animal_id']"
   ]
  },
  {
   "cell_type": "code",
   "execution_count": 5,
   "metadata": {
    "collapsed": true
   },
   "outputs": [],
   "source": [
    "# Scale data for PCA analysis\n",
    "from sklearn.preprocessing import StandardScaler\n",
    "\n",
    "animal_ids = data['animal_id']\n",
    "\n",
    "data = data.drop(axis=1, labels=['animal_id'])\n",
    "scaled_data = StandardScaler().fit_transform(data)"
   ]
  },
  {
   "cell_type": "code",
   "execution_count": 6,
   "metadata": {
    "collapsed": true
   },
   "outputs": [],
   "source": [
    "from sklearn.cluster import KMeans\n",
    "from sklearn.metrics import silhouette_score, silhouette_samples\n",
    "\n",
    "def conduct_silhouette_average_analysis(data, k_max=11, title='title'):\n",
    "    k_values = [x for x in range(2, k_max)]\n",
    "    silhouette_averages = []\n",
    "    for k in k_values:\n",
    "        clusterer = KMeans(n_clusters=k, random_state=45)\n",
    "        cluster_labels = clusterer.fit_predict(data)\n",
    "        silhouette_averages.append(silhouette_score(data, cluster_labels))\n",
    "\n",
    "    ax = plt.plot(k_values, silhouette_averages)\n",
    "    plt.xlabel('Number of Clusters')\n",
    "    plt.ylabel('Silhouette Average')\n",
    "    plt.title(title)\n",
    "    save_plot_for_summary_report('silhouette-score.png')\n",
    "    plt.show()"
   ]
  },
  {
   "cell_type": "code",
   "execution_count": 7,
   "metadata": {},
   "outputs": [
    {
     "data": {
      "image/png": "[encoded data removed]",
      "text/plain": [
       "<matplotlib.figure.Figure at 0x1a0abfc7b8>"
      ]
     },
     "metadata": {},
     "output_type": "display_data"
    }
   ],
   "source": [
    "conduct_silhouette_average_analysis(scaled_data, k_max=11, title=\"Sum-of-Squares for k-clusters\")"
   ]
  },
  {
   "cell_type": "code",
   "execution_count": 8,
   "metadata": {
    "collapsed": true
   },
   "outputs": [],
   "source": [
    "from sklearn.decomposition import PCA\n",
    "\n",
    "def conduct_pca_and_kmeans_analysis(data, animal_ids, pca_components=2, n_clusters=5):\n",
    "    random_state = 25\n",
    "    pca_components = PCA(n_components=pca_components, random_state=random_state).fit_transform(data)\n",
    "    cluster_labels = KMeans(n_clusters=n_clusters, random_state=random_state).fit_predict(data)\n",
    "\n",
    "    x = pca_components[:,0]\n",
    "    y = pca_components[:,1]\n",
    "\n",
    "    results = pd.DataFrame({'cluster_id':cluster_labels, 'x':x, 'y':y, 'animal_id':animal_ids})\n",
    "\n",
    "    sns.lmplot('x', 'y', data=results, hue='cluster_id', fit_reg=False)\n",
    "    _ = plt.title(f'Animal Clusters: k-means (k={n_clusters})')\n",
    "    _ = plt.xlabel(\"\")\n",
    "    _ = plt.ylabel(\"\")\n",
    "    save_plot_for_summary_report('kmeans-clusters.png')\n",
    "    plt.show()\n",
    "    \n",
    "    return results"
   ]
  },
  {
   "cell_type": "code",
   "execution_count": 11,
   "metadata": {},
   "outputs": [
    {
     "data": {
      "image/png": "[encoded data removed]",
      "text/plain": [
       "<matplotlib.figure.Figure at 0x1a0aff05f8>"
      ]
     },
     "metadata": {},
     "output_type": "display_data"
    }
   ],
   "source": [
    "cluster_assignments = conduct_pca_and_kmeans_analysis(scaled_data, animal_ids, pca_components=2, n_clusters=9)"
   ]
  },
  {
   "cell_type": "code",
   "execution_count": 12,
   "metadata": {},
   "outputs": [
    {
     "data": {
      "text/html": [
       "<div>\n",
       "<style>\n",
       "    .dataframe thead tr:only-child th {\n",
       "        text-align: right;\n",
       "    }\n",
       "\n",
       "    .dataframe thead th {\n",
       "        text-align: left;\n",
       "    }\n",
       "\n",
       "    .dataframe tbody tr th {\n",
       "        vertical-align: top;\n",
       "    }\n",
       "</style>\n",
       "<table border=\"1\" class=\"dataframe\">\n",
       "  <thead>\n",
       "    <tr style=\"text-align: right;\">\n",
       "      <th></th>\n",
       "      <th>count_total</th>\n",
       "      <th>top_total</th>\n",
       "      <th>bot_total</th>\n",
       "      <th>top_percent</th>\n",
       "      <th>bot_percent</th>\n",
       "    </tr>\n",
       "    <tr>\n",
       "      <th>cluster_id</th>\n",
       "      <th></th>\n",
       "      <th></th>\n",
       "      <th></th>\n",
       "      <th></th>\n",
       "      <th></th>\n",
       "    </tr>\n",
       "  </thead>\n",
       "  <tbody>\n",
       "    <tr>\n",
       "      <th>0</th>\n",
       "      <td>27</td>\n",
       "      <td>0</td>\n",
       "      <td>0</td>\n",
       "      <td>0.000000</td>\n",
       "      <td>0.000000</td>\n",
       "    </tr>\n",
       "    <tr>\n",
       "      <th>1</th>\n",
       "      <td>17</td>\n",
       "      <td>0</td>\n",
       "      <td>1</td>\n",
       "      <td>0.000000</td>\n",
       "      <td>0.058824</td>\n",
       "    </tr>\n",
       "    <tr>\n",
       "      <th>2</th>\n",
       "      <td>24</td>\n",
       "      <td>0</td>\n",
       "      <td>0</td>\n",
       "      <td>0.000000</td>\n",
       "      <td>0.000000</td>\n",
       "    </tr>\n",
       "    <tr>\n",
       "      <th>3</th>\n",
       "      <td>22</td>\n",
       "      <td>5</td>\n",
       "      <td>0</td>\n",
       "      <td>0.227273</td>\n",
       "      <td>0.000000</td>\n",
       "    </tr>\n",
       "    <tr>\n",
       "      <th>4</th>\n",
       "      <td>13</td>\n",
       "      <td>0</td>\n",
       "      <td>8</td>\n",
       "      <td>0.000000</td>\n",
       "      <td>0.615385</td>\n",
       "    </tr>\n",
       "    <tr>\n",
       "      <th>5</th>\n",
       "      <td>14</td>\n",
       "      <td>8</td>\n",
       "      <td>0</td>\n",
       "      <td>0.571429</td>\n",
       "      <td>0.000000</td>\n",
       "    </tr>\n",
       "    <tr>\n",
       "      <th>6</th>\n",
       "      <td>1</td>\n",
       "      <td>0</td>\n",
       "      <td>1</td>\n",
       "      <td>0.000000</td>\n",
       "      <td>1.000000</td>\n",
       "    </tr>\n",
       "    <tr>\n",
       "      <th>7</th>\n",
       "      <td>8</td>\n",
       "      <td>0</td>\n",
       "      <td>0</td>\n",
       "      <td>0.000000</td>\n",
       "      <td>0.000000</td>\n",
       "    </tr>\n",
       "    <tr>\n",
       "      <th>8</th>\n",
       "      <td>5</td>\n",
       "      <td>0</td>\n",
       "      <td>3</td>\n",
       "      <td>0.000000</td>\n",
       "      <td>0.600000</td>\n",
       "    </tr>\n",
       "  </tbody>\n",
       "</table>\n",
       "</div>"
      ],
      "text/plain": [
       "            count_total  top_total  bot_total  top_percent  bot_percent\n",
       "cluster_id                                                             \n",
       "0                    27          0          0     0.000000     0.000000\n",
       "1                    17          0          1     0.000000     0.058824\n",
       "2                    24          0          0     0.000000     0.000000\n",
       "3                    22          5          0     0.227273     0.000000\n",
       "4                    13          0          8     0.000000     0.615385\n",
       "5                    14          8          0     0.571429     0.000000\n",
       "6                     1          0          1     0.000000     1.000000\n",
       "7                     8          0          0     0.000000     0.000000\n",
       "8                     5          0          3     0.000000     0.600000"
      ]
     },
     "execution_count": 12,
     "metadata": {},
     "output_type": "execute_result"
    }
   ],
   "source": [
    "def generate_profile_results(assignments, top_ids=[], bottom_ids=[]):\n",
    "    cluster_results = []\n",
    "    for cluster_id in assignments['cluster_id'].unique():\n",
    "        cluster_assignments = assignments[assignments['cluster_id'] == cluster_id]\n",
    "        \n",
    "        results = {}\n",
    "        results['cluster_id'] = cluster_id\n",
    "        results['count_total'] = cluster_assignments['animal_id'].count()\n",
    "        results['top_total'] = cluster_assignments[cluster_assignments['animal_id'].isin(top_ids)].count()['animal_id']\n",
    "        results['bot_total'] = cluster_assignments[cluster_assignments['animal_id'].isin(bottom_ids)].count()['animal_id']\n",
    "        results['bot_percent'] = results['bot_total'] / results['count_total']\n",
    "        results['top_percent'] = results['top_total'] / results['count_total']\n",
    "        \n",
    "        cluster_results.append(results)\n",
    "        \n",
    "    columns = ['cluster_id', 'count_total', 'top_total', 'bot_total', 'top_percent', 'bot_percent']\n",
    "    return pd.DataFrame(cluster_results)[columns].sort_values('cluster_id').set_index('cluster_id')\n",
    "\n",
    "generate_profile_results(cluster_assignments, top_ids, bot_ids)"
   ]
  },
  {
   "cell_type": "code",
   "execution_count": null,
   "metadata": {
    "collapsed": true
   },
   "outputs": [],
   "source": []
  },
  {
   "cell_type": "code",
   "execution_count": null,
   "metadata": {
    "collapsed": true
   },
   "outputs": [],
   "source": []
  }
 ],
 "metadata": {
  "kernelspec": {
   "display_name": "Python 3",
   "language": "python",
   "name": "python3"
  },
  "language_info": {
   "codemirror_mode": {
    "name": "ipython",
    "version": 3
   },
   "file_extension": ".py",
   "mimetype": "text/x-python",
   "name": "python",
   "nbconvert_exporter": "python",
   "pygments_lexer": "ipython3",
   "version": "3.6.3"
  }
 },
 "nbformat": 4,
 "nbformat_minor": 2
}
