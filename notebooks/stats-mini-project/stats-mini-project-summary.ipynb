{
 "cells": [
  {
   "cell_type": "markdown",
   "metadata": {},
   "source": [
    "# Exploring the Statistics of Milk Production: \n",
    "\n",
    "## Background\n",
    "\n",
    "The dairy industry is awash with metrics used to help dairy farmers more efficiently produce more significant volumes of milk for consumption in milk, cheese, butter and other consumable products.  Looking specifically to a small herd of cattle in Pennsylvania, this analysis explores some relationships in the available data.\n",
    "\n",
    "The collected data is from a single herd of dairy cattle.  The lactating portion of this herd is milked twice daily.  Animals who are in a dry period are not actively producing milk and are not included on those dates.  This analysis examines the relationships between milk production, [weather](./milk-production-and-temperature.ipynb), and [numerical ratings of given animals](./milk-production-and-animal-classification.ipynb). This notebook provides a summary of these seperate analyses.\n",
    "\n",
    "\n",
    "## Selected Terms\n",
    "\n",
    "The following terms and definitions should be useful for understanding the contents of this analysis.  \n",
    "\n",
    "- **Milk Weight:** The amount of milk produced by an animal.  Measured in pounds of milk. For reference, a gallon of milk weighs approximately 8.6 pounds.\n",
    "\n",
    "- **Dry Period:** The period when a cow is not producing milk. Often serves as a time of rest following a lactation period.\n",
    "\n",
    "- **Lactation Period:** The period when a cow is producing milk.\n",
    "\n",
    "- **Days in Milk:** The number of consecutive days a given cow has been actively producing milk.\n",
    "\n",
    "- **Linear Classification Score:** A integer score between 1-100 given to a milk cow, providing a numerical representation of how well a the physical attributes of an animal fits the profile of an 'ideal' milking cow.  A weighted summarization of 18+ assessments of a given animal.\n",
    "\n",
    "- **Extreme Temperature Day:** A day where the maximum temperature is measured to be $90^{o}F$ or higher or where the minimum temperature is measured below $10^{o}F$.\n",
    "\n",
    "\n",
    "## Tests and Results\n",
    "\n",
    "### Linear Classification Score and Daily Average Milk Weight\n",
    "\n",
    "#### Hypotheses\n",
    "\n",
    "- ~~**$H_{o Class}$:** The linear classication score is not linearly correlated with the average daily milk weight produced.~~\n",
    "- **$H_{a Class}$:** The linear classication score is linearly correlated with the average daily milk weight produced.\n",
    "\n",
    "#### Results\n",
    "\n",
    "The [results](./milk_production_and_animal_classification.ipynb) suggest that there is a statistically significant linear relationship between linear classification score and daily milk production.  Therefore we can reject the null hypothesis, and infer the alternative is true.\n",
    "\n",
    "\n",
    "### Maximum Temperature and Milk Weight\n",
    "\n",
    "#### Hypotheses\n",
    "\n",
    "- **$H_{o Tmax}$:** The weekly average of maximum temperatures is not linearly correlated with weekly per-capita milk production.\n",
    "- ~~**$H_{a Tmax}$:** The weekly average of maximum temperatures is linearly correlated with weekly per-capita milk production.~~\n",
    "\n",
    "#### Results\n",
    "\n",
    "The [results](./milk-production-and-temperature.ipynb) suggest that there is a not a statistically significant linear relationship between maximum temperature and daily milk production.  Therefore we cannot reject the null hypothesis.\n",
    "\n",
    "### Minimum Temperature and Milk Weight\n",
    "\n",
    "#### Hypotheses\n",
    "\n",
    "- **$H_{o Tmin}$:** The weekly average of minimum temperatures is not linearly correlated with weekly per-capita milk production.\n",
    "- ~~**$H_{a Tmin}$:** The weekly average of minimum temperatures not linearly correlated with weekly per-capita milk production.~~\n",
    "\n",
    "#### Results\n",
    "\n",
    "The [results](./milk-production-and-temperature.ipynb) suggest that there is a not a statistically significant linear relationship between minimum temperature and weekly milk production.  Therefore we cannot reject the null hypothesis.\n",
    "\n",
    "### Extreme Temperature Days and Milk Weight\n",
    "\n",
    "- **$H_{o Tex}$:** The number of extreme temperature days per week is not linearly correlated with per-capita weekly milk production.\n",
    "- ~~**$H_{a Tex}$:** The number of extreme temperature days per week is not linearly correlated with per-capita weekly milk production.~~\n",
    "\n",
    "#### Results\n",
    "\n",
    "The [results](./milk-production-and-temperature.ipynb) suggest that there is a not a statistically significant linear relationship between the number of extreme temperature days and weelky milk production.  Therefore we cannot reject the null hypothesis.\n",
    "\n"
   ]
  },
  {
   "cell_type": "markdown",
   "metadata": {},
   "source": [
    "## Future Considerations\n",
    "\n",
    "- Is the impact of extreme temperatures offset by one or two days?\n",
    "- What is the impact of consecutive extreme temperature days?\n",
    "- Does age have a positive or negative impact on milk production volumes?\n",
    "- How does the number of days since calving impact milk production?\n",
    "- Is days-in-milk a have predictive weight in milk production?\n",
    "- How do butterfat percentage and Somatic Cell count vary with milk production?\n",
    "- What relationships exist between flow-rate (max and average) and somatic cell count?\n"
   ]
  },
  {
   "cell_type": "code",
   "execution_count": null,
   "metadata": {
    "collapsed": true
   },
   "outputs": [],
   "source": []
  }
 ],
 "metadata": {
  "kernelspec": {
   "display_name": "Python 3",
   "language": "python",
   "name": "python3"
  },
  "language_info": {
   "codemirror_mode": {
    "name": "ipython",
    "version": 3
   },
   "file_extension": ".py",
   "mimetype": "text/x-python",
   "name": "python",
   "nbconvert_exporter": "python",
   "pygments_lexer": "ipython3",
   "version": "3.6.3"
  }
 },
 "nbformat": 4,
 "nbformat_minor": 2
}
