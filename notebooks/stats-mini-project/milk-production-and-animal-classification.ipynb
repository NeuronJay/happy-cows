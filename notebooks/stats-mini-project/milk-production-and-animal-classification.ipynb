{
 "cells": [
  {
   "cell_type": "markdown",
   "metadata": {},
   "source": [
    "# Exploring the Statistics of Milk Production: Animal Classification\n",
    "\n",
    "## Background\n",
    "\n",
    "This notebook is intended to test hypotheses relating to animal classifications and milk production.  The collected data is from a single herd of dairy cattle.  The lactating portion of the herd is milked twice daily.  Animals who are in a dry period are not actively producing milk and are not included on those dates.  This analysis focuses on the relationships between linear classification scores and milk production. For a summary of these findings and others please see the [summary notebook](./stats-mini-project-summary.ipynb).\n",
    "\n",
    "## Selected Terms\n",
    "\n",
    "The following terms and definitions should be useful for understanding the contents of this analysis.  \n",
    "\n",
    "- **Milk Weight:** The amount of milk produced by an animal.  Measured in pounds of milk. For reference, a gallon of milk weighs approximately 8.6 pounds.\n",
    "\n",
    "- **Dry Period:** The period when a cow is not producing milk. Often serves as a time of rest following a lactation period.\n",
    "\n",
    "- **Lactation Period:** The period when a cow is producing milk.\n",
    "\n",
    "- **Days in Milk:** The number of consecutive days a given cow has been actively producing milk.\n",
    "\n",
    "- **Linear Classification Score:** A integer score between 1-100 given to a milk cow, providing a numerical representation of how well a the physical attributes of an animal fits the profile of an 'ideal' milking cow.  A weighted summarization of 18+ assessments of a given animal.\n",
    "\n",
    "\n",
    "## Linear Classification Score and Daily Average Milk Weight\n",
    "\n",
    "### Hypotheses\n",
    "\n",
    "- ~~**$H_{o Class}$:** The linear classication score is not linearly correlated with the average daily milk weight produced.~~\n",
    "- **$H_{a Class}$:** The linear classication score is linearly correlated with the average daily milk weight produced.\n",
    "\n",
    "### Results\n",
    "\n",
    "The linear classification score score was found to be positively correlated with the average annual milk weight produced by a given dairy cow.  The correlation was found to be statistically significant.  This analyis suggest for every 1 point increase in final score the mean per day milk production is likely to increase by 0.14 pounds."
   ]
  },
  {
   "cell_type": "code",
   "execution_count": 1,
   "metadata": {
    "collapsed": true
   },
   "outputs": [],
   "source": [
    "# Data Retrieval\n",
    "import sys\n",
    "sys.path.insert(0, '../scripts')\n",
    "sys.path.insert(0, '../data/database')\n",
    "from sqlalchemy import create_engine\n",
    "import pandas as pd"
   ]
  },
  {
   "cell_type": "code",
   "execution_count": 2,
   "metadata": {
    "collapsed": true
   },
   "outputs": [],
   "source": [
    "def get_milk_and_scores():\n",
    "    engine =  create_engine('sqlite:///../../data/database/happycows.db')\n",
    "    with engine.connect() as con:\n",
    "        milk = pd.read_sql_table('milk_volume', con)\n",
    "        scores = pd.read_sql_table('classification', con)\n",
    "    return milk, scores"
   ]
  },
  {
   "cell_type": "code",
   "execution_count": 3,
   "metadata": {},
   "outputs": [
    {
     "data": {
      "text/html": [
       "<div>\n",
       "<style>\n",
       "    .dataframe thead tr:only-child th {\n",
       "        text-align: right;\n",
       "    }\n",
       "\n",
       "    .dataframe thead th {\n",
       "        text-align: left;\n",
       "    }\n",
       "\n",
       "    .dataframe tbody tr th {\n",
       "        vertical-align: top;\n",
       "    }\n",
       "</style>\n",
       "<table border=\"1\" class=\"dataframe\">\n",
       "  <thead>\n",
       "    <tr style=\"text-align: right;\">\n",
       "      <th></th>\n",
       "      <th>index</th>\n",
       "      <th>date</th>\n",
       "      <th>animal_id</th>\n",
       "      <th>milk_weight</th>\n",
       "      <th>average_flow</th>\n",
       "      <th>max_flow</th>\n",
       "      <th>date_calved</th>\n",
       "      <th>days_since_calving</th>\n",
       "    </tr>\n",
       "  </thead>\n",
       "  <tbody>\n",
       "    <tr>\n",
       "      <th>0</th>\n",
       "      <td>0</td>\n",
       "      <td>2015-07-03</td>\n",
       "      <td>200</td>\n",
       "      <td>61.3</td>\n",
       "      <td>3.70</td>\n",
       "      <td>5.0</td>\n",
       "      <td>NaT</td>\n",
       "      <td>NaN</td>\n",
       "    </tr>\n",
       "    <tr>\n",
       "      <th>1</th>\n",
       "      <td>1</td>\n",
       "      <td>2015-07-03</td>\n",
       "      <td>2017</td>\n",
       "      <td>71.2</td>\n",
       "      <td>4.45</td>\n",
       "      <td>8.1</td>\n",
       "      <td>2015-03-21</td>\n",
       "      <td>104.0</td>\n",
       "    </tr>\n",
       "    <tr>\n",
       "      <th>2</th>\n",
       "      <td>2</td>\n",
       "      <td>2015-07-03</td>\n",
       "      <td>2027</td>\n",
       "      <td>79.6</td>\n",
       "      <td>3.65</td>\n",
       "      <td>5.1</td>\n",
       "      <td>2015-06-10</td>\n",
       "      <td>23.0</td>\n",
       "    </tr>\n",
       "  </tbody>\n",
       "</table>\n",
       "</div>"
      ],
      "text/plain": [
       "   index       date  animal_id  milk_weight  average_flow  max_flow  \\\n",
       "0      0 2015-07-03        200         61.3          3.70       5.0   \n",
       "1      1 2015-07-03       2017         71.2          4.45       8.1   \n",
       "2      2 2015-07-03       2027         79.6          3.65       5.1   \n",
       "\n",
       "  date_calved  days_since_calving  \n",
       "0         NaT                 NaN  \n",
       "1  2015-03-21               104.0  \n",
       "2  2015-06-10                23.0  "
      ]
     },
     "execution_count": 3,
     "metadata": {},
     "output_type": "execute_result"
    }
   ],
   "source": [
    "milk, scores = get_milk_and_scores()\n",
    "milk.head(3)"
   ]
  },
  {
   "cell_type": "code",
   "execution_count": 4,
   "metadata": {},
   "outputs": [
    {
     "data": {
      "text/html": [
       "<div>\n",
       "<style>\n",
       "    .dataframe thead tr:only-child th {\n",
       "        text-align: right;\n",
       "    }\n",
       "\n",
       "    .dataframe thead th {\n",
       "        text-align: left;\n",
       "    }\n",
       "\n",
       "    .dataframe tbody tr th {\n",
       "        vertical-align: top;\n",
       "    }\n",
       "</style>\n",
       "<table border=\"1\" class=\"dataframe\">\n",
       "  <thead>\n",
       "    <tr style=\"text-align: right;\">\n",
       "      <th></th>\n",
       "      <th>index</th>\n",
       "      <th>animal_id</th>\n",
       "      <th>lactation_count</th>\n",
       "      <th>stature</th>\n",
       "      <th>strength</th>\n",
       "      <th>body_depth</th>\n",
       "      <th>dairy_form</th>\n",
       "      <th>rump_angle</th>\n",
       "      <th>rump_width</th>\n",
       "      <th>rear_legs_side</th>\n",
       "      <th>...</th>\n",
       "      <th>dairy_strength_aggregate</th>\n",
       "      <th>rump_aggregate</th>\n",
       "      <th>feet_and_legs_aggregate</th>\n",
       "      <th>udder_score_aggregate</th>\n",
       "      <th>final_score</th>\n",
       "      <th>age</th>\n",
       "      <th>breed_age_average</th>\n",
       "      <th>date_calved</th>\n",
       "      <th>date</th>\n",
       "      <th>category</th>\n",
       "    </tr>\n",
       "  </thead>\n",
       "  <tbody>\n",
       "    <tr>\n",
       "      <th>414</th>\n",
       "      <td>66</td>\n",
       "      <td>2222.0</td>\n",
       "      <td>1.0</td>\n",
       "      <td>31.0</td>\n",
       "      <td>14.0</td>\n",
       "      <td>21.0</td>\n",
       "      <td>39.0</td>\n",
       "      <td>15.0</td>\n",
       "      <td>25.0</td>\n",
       "      <td>26.0</td>\n",
       "      <td>...</td>\n",
       "      <td>86.0</td>\n",
       "      <td>75.0</td>\n",
       "      <td>81.0</td>\n",
       "      <td>84.0</td>\n",
       "      <td>83.0</td>\n",
       "      <td>4-Feb</td>\n",
       "      <td>107.400002</td>\n",
       "      <td>2017-03-18</td>\n",
       "      <td>2017-07-10</td>\n",
       "      <td>Good Plus</td>\n",
       "    </tr>\n",
       "    <tr>\n",
       "      <th>386</th>\n",
       "      <td>38</td>\n",
       "      <td>2173.0</td>\n",
       "      <td>1.0</td>\n",
       "      <td>42.0</td>\n",
       "      <td>29.0</td>\n",
       "      <td>35.0</td>\n",
       "      <td>19.0</td>\n",
       "      <td>5.0</td>\n",
       "      <td>29.0</td>\n",
       "      <td>35.0</td>\n",
       "      <td>...</td>\n",
       "      <td>81.0</td>\n",
       "      <td>70.0</td>\n",
       "      <td>84.0</td>\n",
       "      <td>83.0</td>\n",
       "      <td>83.0</td>\n",
       "      <td>8-Feb</td>\n",
       "      <td>106.699997</td>\n",
       "      <td>2016-12-01</td>\n",
       "      <td>2017-07-10</td>\n",
       "      <td>Good Plus</td>\n",
       "    </tr>\n",
       "    <tr>\n",
       "      <th>273</th>\n",
       "      <td>45</td>\n",
       "      <td>2063.0</td>\n",
       "      <td>1.0</td>\n",
       "      <td>34.0</td>\n",
       "      <td>20.0</td>\n",
       "      <td>21.0</td>\n",
       "      <td>28.0</td>\n",
       "      <td>26.0</td>\n",
       "      <td>26.0</td>\n",
       "      <td>41.0</td>\n",
       "      <td>...</td>\n",
       "      <td>83.0</td>\n",
       "      <td>84.0</td>\n",
       "      <td>77.0</td>\n",
       "      <td>77.0</td>\n",
       "      <td>79.0</td>\n",
       "      <td>8-Feb</td>\n",
       "      <td>101.699997</td>\n",
       "      <td>2015-10-07</td>\n",
       "      <td>2016-05-09</td>\n",
       "      <td>Good</td>\n",
       "    </tr>\n",
       "  </tbody>\n",
       "</table>\n",
       "<p>3 rows × 34 columns</p>\n",
       "</div>"
      ],
      "text/plain": [
       "     index  animal_id  lactation_count  stature  strength  body_depth  \\\n",
       "414     66     2222.0              1.0     31.0      14.0        21.0   \n",
       "386     38     2173.0              1.0     42.0      29.0        35.0   \n",
       "273     45     2063.0              1.0     34.0      20.0        21.0   \n",
       "\n",
       "     dairy_form  rump_angle  rump_width  rear_legs_side    ...      \\\n",
       "414        39.0        15.0        25.0            26.0    ...       \n",
       "386        19.0         5.0        29.0            35.0    ...       \n",
       "273        28.0        26.0        26.0            41.0    ...       \n",
       "\n",
       "     dairy_strength_aggregate  rump_aggregate  feet_and_legs_aggregate  \\\n",
       "414                      86.0            75.0                     81.0   \n",
       "386                      81.0            70.0                     84.0   \n",
       "273                      83.0            84.0                     77.0   \n",
       "\n",
       "     udder_score_aggregate  final_score    age  breed_age_average  \\\n",
       "414                   84.0         83.0  4-Feb         107.400002   \n",
       "386                   83.0         83.0  8-Feb         106.699997   \n",
       "273                   77.0         79.0  8-Feb         101.699997   \n",
       "\n",
       "     date_calved       date   category  \n",
       "414   2017-03-18 2017-07-10  Good Plus  \n",
       "386   2016-12-01 2017-07-10  Good Plus  \n",
       "273   2015-10-07 2016-05-09       Good  \n",
       "\n",
       "[3 rows x 34 columns]"
      ]
     },
     "execution_count": 4,
     "metadata": {},
     "output_type": "execute_result"
    }
   ],
   "source": [
    "scores.sample(3)"
   ]
  },
  {
   "cell_type": "code",
   "execution_count": 5,
   "metadata": {},
   "outputs": [
    {
     "data": {
      "text/html": [
       "<div>\n",
       "<style>\n",
       "    .dataframe thead tr:only-child th {\n",
       "        text-align: right;\n",
       "    }\n",
       "\n",
       "    .dataframe thead th {\n",
       "        text-align: left;\n",
       "    }\n",
       "\n",
       "    .dataframe tbody tr th {\n",
       "        vertical-align: top;\n",
       "    }\n",
       "</style>\n",
       "<table border=\"1\" class=\"dataframe\">\n",
       "  <thead>\n",
       "    <tr style=\"text-align: right;\">\n",
       "      <th></th>\n",
       "      <th>animal_id</th>\n",
       "      <th>milk_weight</th>\n",
       "    </tr>\n",
       "  </thead>\n",
       "  <tbody>\n",
       "    <tr>\n",
       "      <th>10</th>\n",
       "      <td>1531</td>\n",
       "      <td>89.753582</td>\n",
       "    </tr>\n",
       "    <tr>\n",
       "      <th>214</th>\n",
       "      <td>2096</td>\n",
       "      <td>61.919469</td>\n",
       "    </tr>\n",
       "    <tr>\n",
       "      <th>338</th>\n",
       "      <td>2282</td>\n",
       "      <td>55.012281</td>\n",
       "    </tr>\n",
       "  </tbody>\n",
       "</table>\n",
       "</div>"
      ],
      "text/plain": [
       "     animal_id  milk_weight\n",
       "10        1531    89.753582\n",
       "214       2096    61.919469\n",
       "338       2282    55.012281"
      ]
     },
     "execution_count": 5,
     "metadata": {},
     "output_type": "execute_result"
    }
   ],
   "source": [
    "# Data Preparation: Average Daily Milk Volumes Per Animal\n",
    "def select_features(data):\n",
    "    return data[['date', 'animal_id', 'milk_weight']].dropna(axis=0, how='all')\n",
    "    \n",
    "full_milk = select_features(milk)\n",
    "milk = full_milk.groupby('animal_id').mean()['milk_weight'].reset_index()\n",
    "milk.sample(3)"
   ]
  },
  {
   "cell_type": "code",
   "execution_count": 6,
   "metadata": {},
   "outputs": [
    {
     "data": {
      "text/html": [
       "<div>\n",
       "<style>\n",
       "    .dataframe thead tr:only-child th {\n",
       "        text-align: right;\n",
       "    }\n",
       "\n",
       "    .dataframe thead th {\n",
       "        text-align: left;\n",
       "    }\n",
       "\n",
       "    .dataframe tbody tr th {\n",
       "        vertical-align: top;\n",
       "    }\n",
       "</style>\n",
       "<table border=\"1\" class=\"dataframe\">\n",
       "  <thead>\n",
       "    <tr style=\"text-align: right;\">\n",
       "      <th></th>\n",
       "      <th>animal_id</th>\n",
       "      <th>final_score</th>\n",
       "      <th>category</th>\n",
       "    </tr>\n",
       "  </thead>\n",
       "  <tbody>\n",
       "    <tr>\n",
       "      <th>160</th>\n",
       "      <td>1977.0</td>\n",
       "      <td>80.0</td>\n",
       "      <td>Good Plus</td>\n",
       "    </tr>\n",
       "    <tr>\n",
       "      <th>188</th>\n",
       "      <td>1608.0</td>\n",
       "      <td>87.0</td>\n",
       "      <td>Very Good</td>\n",
       "    </tr>\n",
       "    <tr>\n",
       "      <th>53</th>\n",
       "      <td>1887.0</td>\n",
       "      <td>80.0</td>\n",
       "      <td>Good Plus</td>\n",
       "    </tr>\n",
       "  </tbody>\n",
       "</table>\n",
       "</div>"
      ],
      "text/plain": [
       "     animal_id  final_score   category\n",
       "160     1977.0         80.0  Good Plus\n",
       "188     1608.0         87.0  Very Good\n",
       "53      1887.0         80.0  Good Plus"
      ]
     },
     "execution_count": 6,
     "metadata": {},
     "output_type": "execute_result"
    }
   ],
   "source": [
    "# Data Preparation Classification Data\n",
    "def select_features(data):\n",
    "    return data[['animal_id', 'final_score', 'category']].dropna(axis=0, how='any')\n",
    "\n",
    "scores = select_features(scores)\n",
    "scores.sample(3)"
   ]
  },
  {
   "cell_type": "code",
   "execution_count": 7,
   "metadata": {},
   "outputs": [
    {
     "data": {
      "text/html": [
       "<div>\n",
       "<style>\n",
       "    .dataframe thead tr:only-child th {\n",
       "        text-align: right;\n",
       "    }\n",
       "\n",
       "    .dataframe thead th {\n",
       "        text-align: left;\n",
       "    }\n",
       "\n",
       "    .dataframe tbody tr th {\n",
       "        vertical-align: top;\n",
       "    }\n",
       "</style>\n",
       "<table border=\"1\" class=\"dataframe\">\n",
       "  <thead>\n",
       "    <tr style=\"text-align: right;\">\n",
       "      <th></th>\n",
       "      <th>animal_id</th>\n",
       "      <th>milk_weight</th>\n",
       "      <th>final_score</th>\n",
       "      <th>category</th>\n",
       "    </tr>\n",
       "  </thead>\n",
       "  <tbody>\n",
       "    <tr>\n",
       "      <th>272</th>\n",
       "      <td>2074</td>\n",
       "      <td>64.089159</td>\n",
       "      <td>85.0</td>\n",
       "      <td>Very Good</td>\n",
       "    </tr>\n",
       "    <tr>\n",
       "      <th>86</th>\n",
       "      <td>1892</td>\n",
       "      <td>96.779310</td>\n",
       "      <td>78.0</td>\n",
       "      <td>Good</td>\n",
       "    </tr>\n",
       "    <tr>\n",
       "      <th>70</th>\n",
       "      <td>1876</td>\n",
       "      <td>88.050699</td>\n",
       "      <td>80.0</td>\n",
       "      <td>Good Plus</td>\n",
       "    </tr>\n",
       "  </tbody>\n",
       "</table>\n",
       "</div>"
      ],
      "text/plain": [
       "    animal_id  milk_weight  final_score   category\n",
       "272      2074    64.089159         85.0  Very Good\n",
       "86       1892    96.779310         78.0       Good\n",
       "70       1876    88.050699         80.0  Good Plus"
      ]
     },
     "execution_count": 7,
     "metadata": {},
     "output_type": "execute_result"
    }
   ],
   "source": [
    "# Merge data for analysis\n",
    "milk_and_score = pd.merge(left=milk, right=scores, left_on='animal_id', right_on='animal_id')\n",
    "full_milk_and_score = pd.merge(left=full_milk, right=scores, left_on='animal_id', right_on='animal_id')\n",
    "milk_and_score.sample(3)"
   ]
  },
  {
   "cell_type": "code",
   "execution_count": 8,
   "metadata": {},
   "outputs": [
    {
     "name": "stderr",
     "output_type": "stream",
     "text": [
      "/Users/bcbeidel/anaconda3/lib/python3.6/site-packages/statsmodels/compat/pandas.py:56: FutureWarning: The pandas.core.datetools module is deprecated and will be removed in a future version. Please use the pandas.tseries module instead.\n",
      "  from pandas.core import datetools\n"
     ]
    }
   ],
   "source": [
    "%matplotlib inline \n",
    "\n",
    "import scipy.stats as stats\n",
    "import statsmodels.api as sm\n",
    "import matplotlib.pyplot as plt\n",
    "import seaborn as sns\n",
    "sns.set()"
   ]
  },
  {
   "cell_type": "code",
   "execution_count": 9,
   "metadata": {},
   "outputs": [
    {
     "data": {
      "image/png": "[encoded data removed]",
      "text/plain": [
       "<matplotlib.figure.Figure at 0x118409550>"
      ]
     },
     "metadata": {},
     "output_type": "display_data"
    }
   ],
   "source": [
    "_ = sns.regplot(y=\"milk_weight\", x=\"final_score\", data=milk_and_score, fit_reg = True)\n",
    "_ = plt.xlabel('Final Classification Score')\n",
    "_ = plt.ylabel('Daily Average Milk Weight (lb)')\n",
    "_ = plt.title('Milk Weight and Classification Score')"
   ]
  },
  {
   "cell_type": "code",
   "execution_count": 10,
   "metadata": {},
   "outputs": [
    {
     "data": {
      "image/png": "[encoded data removed]",
      "text/plain": [
       "<matplotlib.figure.Figure at 0x11845d940>"
      ]
     },
     "metadata": {},
     "output_type": "display_data"
    }
   ],
   "source": [
    "_ = stats.probplot(milk_and_score['milk_weight'], plot=plt)\n",
    "_ = plt.title(f'QQ Plot - Milk Weights | {len(milk_and_score[\"milk_weight\"])} Records')\n",
    "plt.show()"
   ]
  },
  {
   "cell_type": "markdown",
   "metadata": {},
   "source": [
    "## Analysis: Final Score and Milk Weight"
   ]
  },
  {
   "cell_type": "code",
   "execution_count": 11,
   "metadata": {
    "collapsed": true
   },
   "outputs": [],
   "source": [
    "import numpy as np\n",
    "\n",
    "def draw_bs_pairs_linreg(x, y, size=1):\n",
    "    \"\"\"Perform pairs bootstrap for linear regression.\"\"\"\n",
    "    inds = np.arange(len(x))\n",
    "    bs_slope_reps = np.empty(size)\n",
    "    bs_intercept_reps = np.empty(size)\n",
    "\n",
    "    # Generate replicates\n",
    "    for i in range(size):\n",
    "        bs_inds = np.random.choice(inds, size=len(inds))\n",
    "        bs_x, bs_y = x[bs_inds], y[bs_inds]\n",
    "        bs_slope_reps[i], bs_intercept_reps[i] = np.polyfit(bs_x, bs_y, 1)\n",
    "\n",
    "    return bs_slope_reps, bs_intercept_reps"
   ]
  },
  {
   "cell_type": "code",
   "execution_count": 12,
   "metadata": {},
   "outputs": [
    {
     "data": {
      "image/png": "[encoded data removed]",
      "text/plain": [
       "<matplotlib.figure.Figure at 0x1135b4908>"
      ]
     },
     "metadata": {},
     "output_type": "display_data"
    }
   ],
   "source": [
    "# Pairs bootstrapping and scatter plot between final score and milk weight\n",
    "bs_slopes, bs_intercepts = draw_bs_pairs_linreg(milk_and_score['final_score'], milk_and_score['milk_weight'], 1000)\n",
    "\n",
    "# Generate array of x-values for bootstrap lines: x\n",
    "x = np.array([60, 95])\n",
    "\n",
    "# Plot the bootstrap lines\n",
    "for i in range(100):\n",
    "    _ = plt.plot(x, bs_slopes[i]*x + bs_intercepts[i],\n",
    "                 linewidth=0.5, alpha=0.2, color='red')\n",
    "\n",
    "_ = plt.plot(milk_and_score['final_score'], milk_and_score['milk_weight'], marker='.', linestyle='none')\n",
    "_ = plt.margins(0.03)\n",
    "_ = plt.xlabel('Final Score')\n",
    "_ = plt.ylabel('Mean Daily Milk Produced(Lb of Milk)')\n",
    "plt.show()"
   ]
  },
  {
   "cell_type": "markdown",
   "metadata": {},
   "source": [
    "Given the variance in the line of best fit, we continue our analysis the Pearson Correlation Coefficient and associated p-value to see if we can reject the null hypothesis for breed age average and the total milk weight from 2016."
   ]
  },
  {
   "cell_type": "code",
   "execution_count": 13,
   "metadata": {
    "collapsed": true
   },
   "outputs": [],
   "source": [
    "def pearson_r(x, y):\n",
    "    \"\"\"Compute Pearson correlation coefficient between two arrays.\"\"\"\n",
    "    corr_mat = np.corrcoef(x, y)\n",
    "    return corr_mat[0,1]"
   ]
  },
  {
   "cell_type": "code",
   "execution_count": 14,
   "metadata": {
    "collapsed": true
   },
   "outputs": [],
   "source": [
    "def calculate_correlation_and_p_value(x, y, permutations=10000, alpha=0.05):\n",
    "    obs_r = pearson_r(x, y)\n",
    "    perm_replicates = np.empty(permutations)\n",
    "    for i in range(permutations):\n",
    "        y_permutated = np.random.permutation(y)\n",
    "        perm_replicates[i] = pearson_r(x, y_permutated)\n",
    "    \n",
    "    p = np.sum(perm_replicates >= obs_r) / len(perm_replicates)\n",
    "    \n",
    "    print(f'     r = {obs_r}')\n",
    "    print(f' p-val = {p}')\n",
    "    print(f' alpha = {alpha}\\n')\n",
    "    if p < alpha:\n",
    "        print(\"The correlation is statistically significant at this p-value and alpha level.\")\n",
    "    else:\n",
    "        print(\"The correlation is not statistically significant at this p-value and alpha level.\")\n",
    "    \n",
    "    return obs_r, p"
   ]
  },
  {
   "cell_type": "code",
   "execution_count": 15,
   "metadata": {},
   "outputs": [
    {
     "name": "stdout",
     "output_type": "stream",
     "text": [
      "     r = 0.13401729371330617\n",
      " p-val = 0.006\n",
      " alpha = 0.05\n",
      "\n",
      "The correlation is statistically significant at this p-value and alpha level.\n"
     ]
    }
   ],
   "source": [
    "r, p = calculate_correlation_and_p_value(milk_and_score['final_score'], milk_and_score['milk_weight'])"
   ]
  },
  {
   "cell_type": "markdown",
   "metadata": {},
   "source": [
    "## Conclusion: Final Score and Milk Weight\n",
    "\n",
    "With a positive correlation coefficent and a p-value < 0.05 we can reject the following null hypothesis (Ho), and infer that the paired alternative hypothesis (Ha) is true:\n",
    "\n",
    "- ~~**$H_{o Class}$:** The linear classication score is not linearly correlated with the average daily milk weight produced.~~\n",
    "- **$H_{a Class}$:** The linear classication score is linearly correlated with the average daily milk weight produced.\n",
    "\n",
    "An animal's final classification score was found to be positively, linearly correlated with the mean daily milk produced.  This analyis suggest for every 1 point increase in final score the mean per day milk production should increase by 0.14 pounds."
   ]
  },
  {
   "cell_type": "code",
   "execution_count": null,
   "metadata": {
    "collapsed": true
   },
   "outputs": [],
   "source": []
  }
 ],
 "metadata": {
  "kernelspec": {
   "display_name": "Python 3",
   "language": "python",
   "name": "python3"
  },
  "language_info": {
   "codemirror_mode": {
    "name": "ipython",
    "version": 3
   },
   "file_extension": ".py",
   "mimetype": "text/x-python",
   "name": "python",
   "nbconvert_exporter": "python",
   "pygments_lexer": "ipython3",
   "version": "3.6.3"
  }
 },
 "nbformat": 4,
 "nbformat_minor": 2
}
