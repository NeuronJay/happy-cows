{
 "cells": [
  {
   "cell_type": "code",
   "execution_count": 1,
   "metadata": {
    "collapsed": true
   },
   "outputs": [],
   "source": [
    "import pandas as pd\n",
    "from sqlalchemy import create_engine\n",
    "\n",
    "def retrieve_data():\n",
    "    engine =  create_engine('sqlite:///../data/database/happycows.db')\n",
    "    with engine.connect() as con:\n",
    "        score = pd.read_sql_table('classification', con)\n",
    "        genetics = pd.read_sql_table('genetics', con)\n",
    "        milk = pd.read_sql_table('milk_volume', con)\n",
    "    return select_score_features(score), select_genetics_features(genetics), select_milk_features(milk)\n",
    "\n",
    "def select_score_features(score):\n",
    "    return score.drop(columns=['category', 'age']).dropna(how='any')\n",
    "\n",
    "def select_genetics_features(genetics):\n",
    "    return genetics.drop(columns=['name', 'level_0'])\n",
    "\n",
    "def select_milk_features(milk):\n",
    "    return milk[['animal_id','date','milk_weight','days_since_calving']]"
   ]
  },
  {
   "cell_type": "code",
   "execution_count": 2,
   "metadata": {
    "collapsed": true
   },
   "outputs": [],
   "source": [
    "score, genetics, milk = retrieve_data()"
   ]
  },
  {
   "cell_type": "code",
   "execution_count": 3,
   "metadata": {
    "collapsed": true
   },
   "outputs": [],
   "source": [
    "import matplotlib.pyplot as plt\n",
    "import seaborn as sns\n",
    "sns.set()\n",
    "\n",
    "def monthly_sums_for_date_range(milk, start, end):\n",
    "    \"\"\"Return monthly sum of animal milk weight production\"\"\"\n",
    "    date_mask = (milk['date'] >= start) & (milk['date'] <= end)\n",
    "    milk = milk[date_mask]\n",
    "    return milk.set_index('date').groupby('animal_id').resample('M').sum().fillna(0)['milk_weight'].reset_index()\n",
    "\n",
    "def get_top_producers(milk, animal_count=25):\n",
    "    \"\"\"Return top n milk producers in dataframe\"\"\"\n",
    "    milk = milk.groupby('animal_id').sum()['milk_weight'].sort_values(ascending=False)\n",
    "    return milk.head(animal_count).reset_index()\n",
    "\n",
    "def get_top_producers_for_date_range(milk, start, end, animal_count=25):\n",
    "    monthly_milk = monthly_sums_for_date_range(milk, start, end)\n",
    "    return get_top_producers(monthly_milk, animal_count)\n",
    "\n",
    "def plot_top_producers(milk, start, end, animal_count=25):\n",
    "    top_producers = get_top_producers_for_date_range(milk, start, end, animal_count)\n",
    "    top_producers['labels'] = top_producers['animal_id'].to_string()\n",
    "    \n",
    "    ax = sns.barplot(y='milk_weight', x='animal_id', data=top_producers, color=\"#87cefa\")\n",
    "    #ax.plot([median, median], \"k--\")\n",
    "    _ = plt.xticks(rotation='vertical')\n",
    "    _ = plt.xlabel('Animal ID')\n",
    "    _ = plt.ylabel('Milk Weight Produced (Lb)')\n",
    "    _ = plt.title(f'Top {animal_count} Animals by Milk Weight {start} to {end}')\n",
    "    return ax"
   ]
  },
  {
   "cell_type": "markdown",
   "metadata": {},
   "source": [
    "## Top Producers for 2016"
   ]
  },
  {
   "cell_type": "code",
   "execution_count": 4,
   "metadata": {
    "collapsed": true
   },
   "outputs": [],
   "source": [
    "milk_2016 = monthly_sums_for_date_range(milk, '2016-01-01', '2016-11-01').groupby('animal_id').sum()"
   ]
  },
  {
   "cell_type": "code",
   "execution_count": 5,
   "metadata": {},
   "outputs": [
    {
     "data": {
      "image/png": "[encoded data removed]",
      "text/plain": [
       "<matplotlib.figure.Figure at 0x1154b1ba8>"
      ]
     },
     "metadata": {},
     "output_type": "display_data"
    }
   ],
   "source": [
    "top_25 = int(milk_2016.quantile(0.75).values[0])\n",
    "top_50 = int(milk_2016.quantile(0.50).values[0])\n",
    "top_75 = int(milk_2016.quantile(0.25).values[0])\n",
    "\n",
    "ax = plot_top_producers(milk, '2016-01-01', '2016-11-01')\n",
    "top25 = ax.axhline(top_25, ls='--', c='green', label='Top 25%')\n",
    "top50 = ax.axhline(top_50, ls='--', c='black', label='Top 50%')\n",
    "top75 = ax.axhline(top_75, ls='--', c='red', label='Top 75%')\n",
    "plt.legend([top25, top50, top75], \n",
    "           [f'Top 25% ({top_25} lb)', f'Top 50% ({top_50} lb)', f'Top 75% ({top_75} lb)'], \n",
    "           loc='lower right')\n",
    "plt.savefig('../reports/figures/top_producer_2016.png')\n",
    "plt.show()"
   ]
  },
  {
   "cell_type": "code",
   "execution_count": 6,
   "metadata": {},
   "outputs": [
    {
     "data": {
      "text/plain": [
       "array([1906, 1999, 1892, 1884, 1815, 1856, 1994, 1729, 2091, 1911, 1960,\n",
       "       1773, 1991, 1531, 1908, 1898, 1711, 1998, 1993, 1918, 2045, 2075,\n",
       "       1558, 1900, 2082])"
      ]
     },
     "execution_count": 6,
     "metadata": {},
     "output_type": "execute_result"
    }
   ],
   "source": [
    "top_producers_2016 = milk_2016.sort_values('milk_weight', ascending=False).head(25).index.values\n",
    "top_producers_2016"
   ]
  },
  {
   "cell_type": "markdown",
   "metadata": {},
   "source": [
    "## Top Producers for 2017"
   ]
  },
  {
   "cell_type": "code",
   "execution_count": 7,
   "metadata": {
    "collapsed": true
   },
   "outputs": [],
   "source": [
    "milk_2017 = monthly_sums_for_date_range(milk, '2017-01-01', '2017-11-01').groupby('animal_id').sum()"
   ]
  },
  {
   "cell_type": "code",
   "execution_count": 8,
   "metadata": {},
   "outputs": [
    {
     "data": {
      "image/png": "[encoded data removed]",
      "text/plain": [
       "<matplotlib.figure.Figure at 0x1154b5898>"
      ]
     },
     "metadata": {},
     "output_type": "display_data"
    }
   ],
   "source": [
    "top_25 = int(milk_2017.quantile(0.75).values[0])\n",
    "top_50 = int(milk_2017.quantile(0.50).values[0])\n",
    "top_75 = int(milk_2017.quantile(0.25).values[0])\n",
    "\n",
    "ax = plot_top_producers(milk, '2017-01-01', '2017-11-01')\n",
    "top25 = ax.axhline(top_25, ls='--', c='green', label='Top 25%')\n",
    "top50 = ax.axhline(top_50, ls='--', c='black', label='Top 50%')\n",
    "top75 = ax.axhline(top_75, ls='--', c='red', label='Top 75%')\n",
    "plt.legend([top25, top50, top75], \n",
    "           [f'Top 25% ({top_25} lb)', f'Top 50% ({top_50} lb)', f'Top 75% ({top_75} lb)'], \n",
    "           loc='lower right')\n",
    "plt.savefig('../reports/figures/top_producer_2017.png')\n",
    "plt.show()"
   ]
  },
  {
   "cell_type": "code",
   "execution_count": 9,
   "metadata": {},
   "outputs": [
    {
     "data": {
      "text/plain": [
       "array([2091, 1892, 1999, 1729, 2045, 1985, 2043, 2167, 1807, 2181, 2075,\n",
       "       2115, 2076, 2130, 2081, 2092, 1922, 2087, 1918, 2089, 1988, 2037,\n",
       "        200, 1994, 2071])"
      ]
     },
     "execution_count": 9,
     "metadata": {},
     "output_type": "execute_result"
    }
   ],
   "source": [
    "top_producers_2017 = milk_2017.sort_values('milk_weight', ascending=False).head(25).index.values\n",
    "top_producers_2017"
   ]
  },
  {
   "cell_type": "code",
   "execution_count": 10,
   "metadata": {},
   "outputs": [],
   "source": [
    "\n",
    "def build_top_performer_profiles_dataframe(genetics, score, top_perfomers):\n",
    "    data = pd.merge(left=score, right=genetics, left_on='animal_id', right_on='animal_id').drop(columns=['index_x', 'index_y'])\n",
    "    return data[data['animal_id'].isin(repeat_performers)]\n",
    "\n",
    "def generate_animal_profiles(data):\n",
    "    report_table = data[['animal_id', \n",
    "                         'body_condition', \n",
    "                         'front_end_capacity_aggregate', \n",
    "                         'dairy_strength_aggregate', \n",
    "                         'rump_aggregate', \n",
    "                         'feet_and_legs_aggregate', \n",
    "                         'udder_score_aggregate', \n",
    "                         'final_score', \n",
    "                         'breed_age_average',\n",
    "                         'date', \n",
    "                         'milk', \n",
    "                         'ctpi']]"
   ]
  },
  {
   "cell_type": "code",
   "execution_count": 11,
   "metadata": {},
   "outputs": [
    {
     "name": "stdout",
     "output_type": "stream",
     "text": [
      "     animal_id  milk_weight\n",
      "21        1729      11464.0\n",
      "63        1892      12649.0\n",
      "76        1918      10219.9\n",
      "112       1994      11643.9\n",
      "115       1999      14064.9\n",
      "145       2045      10172.6\n",
      "163       2075      10142.3\n",
      "175       2091      11310.9\n",
      "     animal_id  milk_weight\n",
      "11        1729      13300.8\n",
      "34        1892      14239.5\n",
      "41        1918      10166.3\n",
      "66        1994       9751.0\n",
      "69        1999      13385.7\n",
      "91        2045      12647.6\n",
      "104       2075      10979.1\n",
      "112       2091      16469.2\n"
     ]
    },
    {
     "data": {
      "text/html": [
       "<div>\n",
       "<style scoped>\n",
       "    .dataframe tbody tr th:only-of-type {\n",
       "        vertical-align: middle;\n",
       "    }\n",
       "\n",
       "    .dataframe tbody tr th {\n",
       "        vertical-align: top;\n",
       "    }\n",
       "\n",
       "    .dataframe thead th {\n",
       "        text-align: right;\n",
       "    }\n",
       "</style>\n",
       "<table border=\"1\" class=\"dataframe\">\n",
       "  <thead>\n",
       "    <tr style=\"text-align: right;\">\n",
       "      <th></th>\n",
       "      <th>animal_id</th>\n",
       "      <th>Final Score</th>\n",
       "      <th>Breed Age Average</th>\n",
       "      <th>Type Performance Index</th>\n",
       "      <th>Last Classification Date</th>\n",
       "    </tr>\n",
       "  </thead>\n",
       "  <tbody>\n",
       "    <tr>\n",
       "      <th>0</th>\n",
       "      <td>1729.0</td>\n",
       "      <td>85.0</td>\n",
       "      <td>106.199997</td>\n",
       "      <td>1696</td>\n",
       "      <td>2014-08-05</td>\n",
       "    </tr>\n",
       "    <tr>\n",
       "      <th>1</th>\n",
       "      <td>1892.0</td>\n",
       "      <td>78.0</td>\n",
       "      <td>99.900002</td>\n",
       "      <td>1606</td>\n",
       "      <td>2014-08-05</td>\n",
       "    </tr>\n",
       "    <tr>\n",
       "      <th>2</th>\n",
       "      <td>1918.0</td>\n",
       "      <td>84.0</td>\n",
       "      <td>108.000000</td>\n",
       "      <td>1785</td>\n",
       "      <td>2014-08-05</td>\n",
       "    </tr>\n",
       "    <tr>\n",
       "      <th>3</th>\n",
       "      <td>1994.0</td>\n",
       "      <td>82.0</td>\n",
       "      <td>106.099998</td>\n",
       "      <td>1744</td>\n",
       "      <td>2015-03-09</td>\n",
       "    </tr>\n",
       "    <tr>\n",
       "      <th>4</th>\n",
       "      <td>1999.0</td>\n",
       "      <td>83.0</td>\n",
       "      <td>107.699997</td>\n",
       "      <td>2198</td>\n",
       "      <td>2015-03-09</td>\n",
       "    </tr>\n",
       "    <tr>\n",
       "      <th>5</th>\n",
       "      <td>1994.0</td>\n",
       "      <td>85.0</td>\n",
       "      <td>108.900002</td>\n",
       "      <td>1744</td>\n",
       "      <td>2015-10-18</td>\n",
       "    </tr>\n",
       "    <tr>\n",
       "      <th>6</th>\n",
       "      <td>1994.0</td>\n",
       "      <td>86.0</td>\n",
       "      <td>108.599998</td>\n",
       "      <td>1744</td>\n",
       "      <td>2016-05-09</td>\n",
       "    </tr>\n",
       "    <tr>\n",
       "      <th>7</th>\n",
       "      <td>2091.0</td>\n",
       "      <td>73.0</td>\n",
       "      <td>94.800003</td>\n",
       "      <td>1744</td>\n",
       "      <td>2016-05-09</td>\n",
       "    </tr>\n",
       "    <tr>\n",
       "      <th>8</th>\n",
       "      <td>2045.0</td>\n",
       "      <td>83.0</td>\n",
       "      <td>106.599998</td>\n",
       "      <td>1772</td>\n",
       "      <td>2016-05-09</td>\n",
       "    </tr>\n",
       "    <tr>\n",
       "      <th>9</th>\n",
       "      <td>2075.0</td>\n",
       "      <td>80.0</td>\n",
       "      <td>103.400002</td>\n",
       "      <td>1711</td>\n",
       "      <td>2016-05-09</td>\n",
       "    </tr>\n",
       "    <tr>\n",
       "      <th>10</th>\n",
       "      <td>1892.0</td>\n",
       "      <td>83.0</td>\n",
       "      <td>103.400002</td>\n",
       "      <td>1606</td>\n",
       "      <td>2016-05-09</td>\n",
       "    </tr>\n",
       "    <tr>\n",
       "      <th>11</th>\n",
       "      <td>1999.0</td>\n",
       "      <td>86.0</td>\n",
       "      <td>108.000000</td>\n",
       "      <td>2198</td>\n",
       "      <td>2016-12-05</td>\n",
       "    </tr>\n",
       "    <tr>\n",
       "      <th>12</th>\n",
       "      <td>2075.0</td>\n",
       "      <td>82.0</td>\n",
       "      <td>104.699997</td>\n",
       "      <td>1711</td>\n",
       "      <td>2016-12-05</td>\n",
       "    </tr>\n",
       "    <tr>\n",
       "      <th>13</th>\n",
       "      <td>1994.0</td>\n",
       "      <td>88.0</td>\n",
       "      <td>1091.000000</td>\n",
       "      <td>1744</td>\n",
       "      <td>2017-07-10</td>\n",
       "    </tr>\n",
       "    <tr>\n",
       "      <th>14</th>\n",
       "      <td>1999.0</td>\n",
       "      <td>88.0</td>\n",
       "      <td>110.000000</td>\n",
       "      <td>2198</td>\n",
       "      <td>2017-07-10</td>\n",
       "    </tr>\n",
       "    <tr>\n",
       "      <th>15</th>\n",
       "      <td>2075.0</td>\n",
       "      <td>85.0</td>\n",
       "      <td>107.400002</td>\n",
       "      <td>1711</td>\n",
       "      <td>2017-07-10</td>\n",
       "    </tr>\n",
       "    <tr>\n",
       "      <th>16</th>\n",
       "      <td>2091.0</td>\n",
       "      <td>79.0</td>\n",
       "      <td>99.900002</td>\n",
       "      <td>1744</td>\n",
       "      <td>2017-07-10</td>\n",
       "    </tr>\n",
       "  </tbody>\n",
       "</table>\n",
       "</div>"
      ],
      "text/plain": [
       "   animal_id  Final Score  Breed Age Average  Type Performance Index  \\\n",
       "0     1729.0         85.0         106.199997                    1696   \n",
       "1     1892.0         78.0          99.900002                    1606   \n",
       "2     1918.0         84.0         108.000000                    1785   \n",
       "3     1994.0         82.0         106.099998                    1744   \n",
       "4     1999.0         83.0         107.699997                    2198   \n",
       "5     1994.0         85.0         108.900002                    1744   \n",
       "6     1994.0         86.0         108.599998                    1744   \n",
       "7     2091.0         73.0          94.800003                    1744   \n",
       "8     2045.0         83.0         106.599998                    1772   \n",
       "9     2075.0         80.0         103.400002                    1711   \n",
       "10    1892.0         83.0         103.400002                    1606   \n",
       "11    1999.0         86.0         108.000000                    2198   \n",
       "12    2075.0         82.0         104.699997                    1711   \n",
       "13    1994.0         88.0        1091.000000                    1744   \n",
       "14    1999.0         88.0         110.000000                    2198   \n",
       "15    2075.0         85.0         107.400002                    1711   \n",
       "16    2091.0         79.0          99.900002                    1744   \n",
       "\n",
       "   Last Classification Date  \n",
       "0                2014-08-05  \n",
       "1                2014-08-05  \n",
       "2                2014-08-05  \n",
       "3                2015-03-09  \n",
       "4                2015-03-09  \n",
       "5                2015-10-18  \n",
       "6                2016-05-09  \n",
       "7                2016-05-09  \n",
       "8                2016-05-09  \n",
       "9                2016-05-09  \n",
       "10               2016-05-09  \n",
       "11               2016-12-05  \n",
       "12               2016-12-05  \n",
       "13               2017-07-10  \n",
       "14               2017-07-10  \n",
       "15               2017-07-10  \n",
       "16               2017-07-10  "
      ]
     },
     "execution_count": 11,
     "metadata": {},
     "output_type": "execute_result"
    }
   ],
   "source": [
    "import numpy as np\n",
    "repeat_performers = np.intersect1d(top_producers_2016, top_producers_2017)\n",
    "top_profiles = build_top_performer_profiles_dataframe(genetics, score, repeat_performers)\n",
    "top_profiles = top_profiles.sort_values('date').drop_duplicates(keep='last')\n",
    "top_profiles = top_profiles.set_index('animal_id')\n",
    "top_profiles = top_profiles[['final_score', 'breed_age_average', 'ctpi', 'date']]\n",
    "top_profiles = top_profiles.rename(index=str, columns={\"final_score\": \"Final Score\",\n",
    "                                                       \"breed_age_average\": \"Breed Age Average\",\n",
    "                                                       \"ctpi\": \"Type Performance Index\",\n",
    "                                                       \"date\": \"Last Classification Date\"})\n",
    "top_profiles = top_profiles.reset_index()\n",
    "milk_2016 = milk_2016.reset_index()\n",
    "milk_2017 = milk_2017.reset_index()\n",
    "\n",
    "print(milk_2016[milk_2016['animal_id'].isin(repeat_performers)])\n",
    "print(milk_2017[milk_2017['animal_id'].isin(repeat_performers)])\n",
    "\n",
    "top_profiles "
   ]
  },
  {
   "cell_type": "code",
   "execution_count": null,
   "metadata": {
    "collapsed": true
   },
   "outputs": [],
   "source": []
  },
  {
   "cell_type": "code",
   "execution_count": 12,
   "metadata": {},
   "outputs": [
    {
     "ename": "NameError",
     "evalue": "name 'top_25_2017' is not defined",
     "output_type": "error",
     "traceback": [
      "\u001b[0;31m---------------------------------------------------------------------------\u001b[0m",
      "\u001b[0;31mNameError\u001b[0m                                 Traceback (most recent call last)",
      "\u001b[0;32m<ipython-input-12-a0d1a4e54192>\u001b[0m in \u001b[0;36m<module>\u001b[0;34m()\u001b[0m\n\u001b[0;32m----> 1\u001b[0;31m \u001b[0mtop_25_2017\u001b[0m\u001b[0;34m\u001b[0m\u001b[0m\n\u001b[0m",
      "\u001b[0;31mNameError\u001b[0m: name 'top_25_2017' is not defined"
     ]
    }
   ],
   "source": [
    "top_25_2017"
   ]
  },
  {
   "cell_type": "code",
   "execution_count": null,
   "metadata": {},
   "outputs": [],
   "source": [
    "top_25_2016"
   ]
  },
  {
   "cell_type": "code",
   "execution_count": null,
   "metadata": {},
   "outputs": [],
   "source": [
    "set(top_25_2017) & set(top_25_2016)"
   ]
  },
  {
   "cell_type": "code",
   "execution_count": null,
   "metadata": {
    "collapsed": true
   },
   "outputs": [],
   "source": [
    "from sklearn.preprocessing import normalize\n",
    "merged_normal = normalize(merged)"
   ]
  },
  {
   "cell_type": "code",
   "execution_count": null,
   "metadata": {},
   "outputs": [],
   "source": [
    "from sklearn.cluster import KMeans\n",
    "from sklearn.metrics import silhouette_score\n",
    "\n",
    "k_values = range(2, 11)\n",
    "scores = []\n",
    "\n",
    "for k in k_values:\n",
    "    clusterer = KMeans(n_clusters=k, random_state=45)\n",
    "    cluster_labels = clusterer.fit_predict(merged_normal)\n",
    "    silhouette_avg = silhouette_score(merged_normal, cluster_labels)\n",
    "    scores.append(silhouette_avg)\n",
    "    \n",
    "plt.plot(k_values, scores)\n",
    "plt.show()"
   ]
  },
  {
   "cell_type": "code",
   "execution_count": null,
   "metadata": {
    "collapsed": true
   },
   "outputs": [],
   "source": [
    "from sklearn.decomposition import PCA\n",
    "from mpl_toolkits.mplot3d import Axes3D\n",
    "random_state = 25\n",
    "\n",
    "animal_ids = merged.reset_index()['animal_id']\n",
    "pca_components = PCA(n_components=3, random_state=random_state).fit_transform(merged_normal)\n",
    "cluster_labels = KMeans(n_clusters=2, random_state=random_state).fit_predict(merged_normal)\n",
    "x = pca_components[:,0]\n",
    "y = pca_components[:,1]\n",
    "z = pca_components[:,2]\n",
    "\n",
    "results = pd.DataFrame({'cluster_id':cluster_labels, 'x':x, 'y':y, 'z':z}, index=animal_ids)\n",
    "results = results.reset_index()\n",
    "results.describe()\n",
    "results['top_25'] = results['animal_id'].apply(lambda x: 1 if x in top_25 else 0)\n",
    "\n",
    "fig = plt.figure()\n",
    "ax = fig.add_subplot(111, projection='3d')\n",
    "\n",
    "ax.scatter(results['x'], results['y'], results['z'], c=results['top_25'], marker='D')\n",
    "\n",
    "ax.set_xlabel('X Label')\n",
    "ax.set_ylabel('Y Label')\n",
    "ax.set_zlabel('Z Label')\n",
    "plt.show()\n",
    "\n",
    "#plt.scatter(, c=, alpha=0.5)\n",
    "#plt.show()\n",
    "\n",
    "#plt.scatter(results['x'], results['y'], results['z'], c=, alpha=0.5, marker='D')\n",
    "#plt.show()"
   ]
  },
  {
   "cell_type": "code",
   "execution_count": null,
   "metadata": {
    "collapsed": true
   },
   "outputs": [],
   "source": [
    "from sklearn.cluster import AffinityPropagation, SpectralClustering, AgglomerativeClustering, DBSCAN"
   ]
  },
  {
   "cell_type": "code",
   "execution_count": null,
   "metadata": {
    "collapsed": true
   },
   "outputs": [],
   "source": [
    "results = results.groupby('animal_id').mean().reset_index()"
   ]
  },
  {
   "cell_type": "code",
   "execution_count": null,
   "metadata": {
    "collapsed": true
   },
   "outputs": [],
   "source": [
    "results"
   ]
  },
  {
   "cell_type": "code",
   "execution_count": null,
   "metadata": {
    "collapsed": true
   },
   "outputs": [],
   "source": []
  }
 ],
 "metadata": {
  "kernelspec": {
   "display_name": "Python 3",
   "language": "python",
   "name": "python3"
  },
  "language_info": {
   "codemirror_mode": {
    "name": "ipython",
    "version": 3
   },
   "file_extension": ".py",
   "mimetype": "text/x-python",
   "name": "python",
   "nbconvert_exporter": "python",
   "pygments_lexer": "ipython3",
   "version": "3.6.3"
  }
 },
 "nbformat": 4,
 "nbformat_minor": 2
}
