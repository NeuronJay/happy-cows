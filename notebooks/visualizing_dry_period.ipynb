{
 "cells": [
  {
   "cell_type": "code",
   "execution_count": 1,
   "metadata": {
    "collapsed": true
   },
   "outputs": [],
   "source": [
    "# special IPython command to prepare the notebook for matplotlib and other libraries\n",
    "%matplotlib inline \n",
    "\n",
    "import numpy as np\n",
    "import pandas as pd\n",
    "from sqlalchemy import create_engine\n",
    "import seaborn as sns\n",
    "import matplotlib.pyplot as plt\n",
    "sns.set()"
   ]
  },
  {
   "cell_type": "code",
   "execution_count": 2,
   "metadata": {
    "collapsed": true
   },
   "outputs": [],
   "source": [
    "def retrieve_data():\n",
    "    engine =  create_engine('sqlite:///../data/database/happycows.db')\n",
    "    with engine.connect() as con:\n",
    "        milk = pd.read_sql_table('milk_volume', con)\n",
    "        score = pd.read_sql_table('classification', con)\n",
    "    return milk, score"
   ]
  },
  {
   "cell_type": "code",
   "execution_count": 3,
   "metadata": {
    "collapsed": true
   },
   "outputs": [],
   "source": [
    "def add_days_since_calving(milk, calvings):\n",
    "    calving_dates = []\n",
    "    for index, row in milk.iterrows():\n",
    "        milk_date = row['date']\n",
    "        animal_id = row['animal_id']\n",
    "        c = calvings[(calvings['date_calved'] <= milk_date) & (calvings['animal_id'] == animal_id)]\n",
    "        c = c['date_calved']\n",
    "        if len(c) == 0:\n",
    "            calving_dates.append(np.NaN)\n",
    "        else:\n",
    "            c = c.sort_values(ascending=False)\n",
    "            calving_dates.append(c.iloc[0])\n",
    "    \n",
    "    milk['date_calved'] = calving_dates\n",
    "    milk['days_since_calving'] = np.subtract(milk['date'], milk['date_calved'])\n",
    "    return milk"
   ]
  },
  {
   "cell_type": "code",
   "execution_count": 4,
   "metadata": {},
   "outputs": [],
   "source": [
    "milk, score = retrieve_data()"
   ]
  },
  {
   "cell_type": "code",
   "execution_count": 5,
   "metadata": {
    "collapsed": true
   },
   "outputs": [],
   "source": [
    "calvings = score[['animal_id', 'date_calved']].dropna(how='any').sort_values('date_calved')"
   ]
  },
  {
   "cell_type": "code",
   "execution_count": 6,
   "metadata": {},
   "outputs": [
    {
     "name": "stderr",
     "output_type": "stream",
     "text": [
      "/anaconda3/lib/python3.6/site-packages/ipykernel_launcher.py:2: SettingWithCopyWarning: \n",
      "A value is trying to be set on a copy of a slice from a DataFrame.\n",
      "Try using .loc[row_indexer,col_indexer] = value instead\n",
      "\n",
      "See the caveats in the documentation: http://pandas.pydata.org/pandas-docs/stable/indexing.html#indexing-view-versus-copy\n",
      "  \n"
     ]
    },
    {
     "data": {
      "text/html": [
       "<div>\n",
       "<style scoped>\n",
       "    .dataframe tbody tr th:only-of-type {\n",
       "        vertical-align: middle;\n",
       "    }\n",
       "\n",
       "    .dataframe tbody tr th {\n",
       "        vertical-align: top;\n",
       "    }\n",
       "\n",
       "    .dataframe thead th {\n",
       "        text-align: right;\n",
       "    }\n",
       "</style>\n",
       "<table border=\"1\" class=\"dataframe\">\n",
       "  <thead>\n",
       "    <tr style=\"text-align: right;\">\n",
       "      <th></th>\n",
       "      <th>date</th>\n",
       "      <th>animal_id</th>\n",
       "      <th>milk_weight</th>\n",
       "      <th>average_flow</th>\n",
       "      <th>max_flow</th>\n",
       "      <th>date_calved</th>\n",
       "      <th>days_since_calving</th>\n",
       "    </tr>\n",
       "  </thead>\n",
       "  <tbody>\n",
       "    <tr>\n",
       "      <th>23250</th>\n",
       "      <td>2015-12-09</td>\n",
       "      <td>1930</td>\n",
       "      <td>20.3</td>\n",
       "      <td>2.850000</td>\n",
       "      <td>3.6</td>\n",
       "      <td>2014-02-27</td>\n",
       "      <td>650</td>\n",
       "    </tr>\n",
       "    <tr>\n",
       "      <th>51725</th>\n",
       "      <td>2016-06-19</td>\n",
       "      <td>2103</td>\n",
       "      <td>30.7</td>\n",
       "      <td>2.750000</td>\n",
       "      <td>4.1</td>\n",
       "      <td>2016-01-16</td>\n",
       "      <td>155</td>\n",
       "    </tr>\n",
       "    <tr>\n",
       "      <th>76445</th>\n",
       "      <td>2016-11-30</td>\n",
       "      <td>2056</td>\n",
       "      <td>36.9</td>\n",
       "      <td>4.050000</td>\n",
       "      <td>5.9</td>\n",
       "      <td>2015-08-14</td>\n",
       "      <td>474</td>\n",
       "    </tr>\n",
       "    <tr>\n",
       "      <th>21378</th>\n",
       "      <td>2015-11-25</td>\n",
       "      <td>1907</td>\n",
       "      <td>41.6</td>\n",
       "      <td>4.900000</td>\n",
       "      <td>7.1</td>\n",
       "      <td>2013-11-30</td>\n",
       "      <td>725</td>\n",
       "    </tr>\n",
       "    <tr>\n",
       "      <th>65647</th>\n",
       "      <td>2016-09-21</td>\n",
       "      <td>2156</td>\n",
       "      <td>26.8</td>\n",
       "      <td>4.000000</td>\n",
       "      <td>6.1</td>\n",
       "      <td>2016-08-13</td>\n",
       "      <td>39</td>\n",
       "    </tr>\n",
       "    <tr>\n",
       "      <th>55901</th>\n",
       "      <td>2016-07-18</td>\n",
       "      <td>2089</td>\n",
       "      <td>31.4</td>\n",
       "      <td>6.650000</td>\n",
       "      <td>9.8</td>\n",
       "      <td>2015-12-22</td>\n",
       "      <td>209</td>\n",
       "    </tr>\n",
       "    <tr>\n",
       "      <th>27489</th>\n",
       "      <td>2016-01-08</td>\n",
       "      <td>2091</td>\n",
       "      <td>43.1</td>\n",
       "      <td>1.466667</td>\n",
       "      <td>2.2</td>\n",
       "      <td>2016-01-03</td>\n",
       "      <td>5</td>\n",
       "    </tr>\n",
       "    <tr>\n",
       "      <th>17718</th>\n",
       "      <td>2015-10-31</td>\n",
       "      <td>1757</td>\n",
       "      <td>30.3</td>\n",
       "      <td>4.200000</td>\n",
       "      <td>5.6</td>\n",
       "      <td>2014-05-21</td>\n",
       "      <td>528</td>\n",
       "    </tr>\n",
       "    <tr>\n",
       "      <th>100920</th>\n",
       "      <td>2017-05-12</td>\n",
       "      <td>2052</td>\n",
       "      <td>37.5</td>\n",
       "      <td>4.800000</td>\n",
       "      <td>6.6</td>\n",
       "      <td>2016-10-16</td>\n",
       "      <td>208</td>\n",
       "    </tr>\n",
       "    <tr>\n",
       "      <th>8583</th>\n",
       "      <td>2015-08-29</td>\n",
       "      <td>1889</td>\n",
       "      <td>35.0</td>\n",
       "      <td>3.300000</td>\n",
       "      <td>4.4</td>\n",
       "      <td>2013-08-18</td>\n",
       "      <td>741</td>\n",
       "    </tr>\n",
       "  </tbody>\n",
       "</table>\n",
       "</div>"
      ],
      "text/plain": [
       "             date  animal_id  milk_weight  average_flow  max_flow date_calved  \\\n",
       "23250  2015-12-09       1930         20.3      2.850000       3.6  2014-02-27   \n",
       "51725  2016-06-19       2103         30.7      2.750000       4.1  2016-01-16   \n",
       "76445  2016-11-30       2056         36.9      4.050000       5.9  2015-08-14   \n",
       "21378  2015-11-25       1907         41.6      4.900000       7.1  2013-11-30   \n",
       "65647  2016-09-21       2156         26.8      4.000000       6.1  2016-08-13   \n",
       "55901  2016-07-18       2089         31.4      6.650000       9.8  2015-12-22   \n",
       "27489  2016-01-08       2091         43.1      1.466667       2.2  2016-01-03   \n",
       "17718  2015-10-31       1757         30.3      4.200000       5.6  2014-05-21   \n",
       "100920 2017-05-12       2052         37.5      4.800000       6.6  2016-10-16   \n",
       "8583   2015-08-29       1889         35.0      3.300000       4.4  2013-08-18   \n",
       "\n",
       "        days_since_calving  \n",
       "23250                  650  \n",
       "51725                  155  \n",
       "76445                  474  \n",
       "21378                  725  \n",
       "65647                   39  \n",
       "55901                  209  \n",
       "27489                    5  \n",
       "17718                  528  \n",
       "100920                 208  \n",
       "8583                   741  "
      ]
     },
     "execution_count": 6,
     "metadata": {},
     "output_type": "execute_result"
    }
   ],
   "source": [
    "s = add_days_since_calving(milk, calvings).dropna(how='any')\n",
    "s['days_since_calving'] = s['days_since_calving'].apply(lambda x: x.days)\n",
    "s.sample(10)"
   ]
  },
  {
   "cell_type": "code",
   "execution_count": 7,
   "metadata": {
    "collapsed": true
   },
   "outputs": [],
   "source": [
    "s = s.groupby('days_since_calving').mean().reset_index()\n",
    "s = s[s['days_since_calving'] < 1000]"
   ]
  },
  {
   "cell_type": "code",
   "execution_count": 8,
   "metadata": {},
   "outputs": [
    {
     "data": {
      "image/png": "[encoded data removed]",
      "text/plain": [
       "<matplotlib.figure.Figure at 0x1a1a328160>"
      ]
     },
     "metadata": {},
     "output_type": "display_data"
    }
   ],
   "source": [
    "_ = plt.plot(s['days_since_calving'], s['milk_weight'], marker='.', linestyle='none')\n",
    "_ = plt.margins(0.03)\n",
    "_ = plt.xlabel('Days Since Calving')\n",
    "_ = plt.ylabel('Milk Pounds')\n",
    "plt.show()"
   ]
  },
  {
   "cell_type": "code",
   "execution_count": null,
   "metadata": {
    "collapsed": true
   },
   "outputs": [],
   "source": []
  }
 ],
 "metadata": {
  "kernelspec": {
   "display_name": "Python 3",
   "language": "python",
   "name": "python3"
  },
  "language_info": {
   "codemirror_mode": {
    "name": "ipython",
    "version": 3
   },
   "file_extension": ".py",
   "mimetype": "text/x-python",
   "name": "python",
   "nbconvert_exporter": "python",
   "pygments_lexer": "ipython3",
   "version": "3.6.3"
  }
 },
 "nbformat": 4,
 "nbformat_minor": 2
}
