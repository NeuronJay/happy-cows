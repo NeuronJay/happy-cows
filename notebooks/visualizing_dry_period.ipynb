{
 "cells": [
  {
   "cell_type": "code",
<<<<<<< HEAD
   "execution_count": 1,
=======
   "execution_count": 53,
>>>>>>> master
   "metadata": {
    "collapsed": true
   },
   "outputs": [],
   "source": [
    "# special IPython command to prepare the notebook for matplotlib and other libraries\n",
    "%matplotlib inline \n",
    "\n",
    "import numpy as np\n",
    "import pandas as pd\n",
    "from sqlalchemy import create_engine\n",
    "import seaborn as sns\n",
<<<<<<< HEAD
    "import matplotlib.pyplot as plt\n",
    "sns.set()"
=======
    "import matplotlib.pyplot as plt"
>>>>>>> master
   ]
  },
  {
   "cell_type": "code",
<<<<<<< HEAD
   "execution_count": 2,
=======
   "execution_count": 54,
>>>>>>> master
   "metadata": {
    "collapsed": true
   },
   "outputs": [],
   "source": [
    "def retrieve_data():\n",
    "    engine =  create_engine('sqlite:///../data/database/happycows.db')\n",
    "    with engine.connect() as con:\n",
    "        milk = pd.read_sql_table('milk_volume', con)\n",
<<<<<<< HEAD
    "        score = pd.read_sql_table('classification', con)\n",
    "    return milk, score"
=======
    "        weather = pd.read_sql_table('weather', con)\n",
    "        score = pd.read_sql_table('classification', con)\n",
    "    return milk, weather, score"
>>>>>>> master
   ]
  },
  {
   "cell_type": "code",
<<<<<<< HEAD
   "execution_count": 3,
=======
   "execution_count": 55,
>>>>>>> master
   "metadata": {
    "collapsed": true
   },
   "outputs": [],
   "source": [
<<<<<<< HEAD
    "def add_days_since_calving(milk, calvings):\n",
    "    calving_dates = []\n",
    "    for index, row in milk.iterrows():\n",
    "        milk_date = row['date']\n",
    "        animal_id = row['animal_id']\n",
    "        c = calvings[(calvings['date_calved'] <= milk_date) & (calvings['animal_id'] == animal_id)]\n",
    "        c = c['date_calved']\n",
    "        if len(c) == 0:\n",
    "            calving_dates.append(np.NaN)\n",
    "        else:\n",
    "            c = c.sort_values(ascending=False)\n",
    "            calving_dates.append(c.iloc[0])\n",
    "    \n",
    "    milk['date_calved'] = calving_dates\n",
    "    milk['days_since_calving'] = np.subtract(milk['date'], milk['date_calved'])\n",
    "    return milk"
   ]
  },
  {
   "cell_type": "code",
   "execution_count": 4,
   "metadata": {},
   "outputs": [],
   "source": [
    "milk, score = retrieve_data()"
   ]
  },
  {
   "cell_type": "code",
   "execution_count": 5,
   "metadata": {
    "collapsed": true
   },
   "outputs": [],
   "source": [
    "calvings = score[['animal_id', 'date_calved']].dropna(how='any').sort_values('date_calved')"
=======
    "sns.set()"
>>>>>>> master
   ]
  },
  {
   "cell_type": "code",
<<<<<<< HEAD
   "execution_count": 6,
   "metadata": {},
   "outputs": [
    {
     "name": "stderr",
     "output_type": "stream",
     "text": [
      "/anaconda3/lib/python3.6/site-packages/ipykernel_launcher.py:2: SettingWithCopyWarning: \n",
      "A value is trying to be set on a copy of a slice from a DataFrame.\n",
      "Try using .loc[row_indexer,col_indexer] = value instead\n",
      "\n",
      "See the caveats in the documentation: http://pandas.pydata.org/pandas-docs/stable/indexing.html#indexing-view-versus-copy\n",
      "  \n"
     ]
    },
    {
     "data": {
      "text/html": [
       "<div>\n",
       "<style scoped>\n",
       "    .dataframe tbody tr th:only-of-type {\n",
       "        vertical-align: middle;\n",
       "    }\n",
       "\n",
       "    .dataframe tbody tr th {\n",
       "        vertical-align: top;\n",
       "    }\n",
       "\n",
       "    .dataframe thead th {\n",
       "        text-align: right;\n",
=======
   "execution_count": 56,
   "metadata": {},
   "outputs": [
    {
     "data": {
      "text/html": [
       "<div>\n",
       "<style>\n",
       "    .dataframe thead tr:only-child th {\n",
       "        text-align: right;\n",
       "    }\n",
       "\n",
       "    .dataframe thead th {\n",
       "        text-align: left;\n",
       "    }\n",
       "\n",
       "    .dataframe tbody tr th {\n",
       "        vertical-align: top;\n",
>>>>>>> master
       "    }\n",
       "</style>\n",
       "<table border=\"1\" class=\"dataframe\">\n",
       "  <thead>\n",
       "    <tr style=\"text-align: right;\">\n",
       "      <th></th>\n",
<<<<<<< HEAD
       "      <th>date</th>\n",
=======
>>>>>>> master
       "      <th>animal_id</th>\n",
       "      <th>milk_weight</th>\n",
       "      <th>average_flow</th>\n",
       "      <th>max_flow</th>\n",
<<<<<<< HEAD
       "      <th>date_calved</th>\n",
       "      <th>days_since_calving</th>\n",
       "    </tr>\n",
       "  </thead>\n",
       "  <tbody>\n",
       "    <tr>\n",
       "      <th>23250</th>\n",
       "      <td>2015-12-09</td>\n",
       "      <td>1930</td>\n",
       "      <td>20.3</td>\n",
       "      <td>2.850000</td>\n",
       "      <td>3.6</td>\n",
       "      <td>2014-02-27</td>\n",
       "      <td>650</td>\n",
       "    </tr>\n",
       "    <tr>\n",
       "      <th>51725</th>\n",
       "      <td>2016-06-19</td>\n",
       "      <td>2103</td>\n",
       "      <td>30.7</td>\n",
       "      <td>2.750000</td>\n",
       "      <td>4.1</td>\n",
       "      <td>2016-01-16</td>\n",
       "      <td>155</td>\n",
       "    </tr>\n",
       "    <tr>\n",
       "      <th>76445</th>\n",
       "      <td>2016-11-30</td>\n",
       "      <td>2056</td>\n",
       "      <td>36.9</td>\n",
       "      <td>4.050000</td>\n",
       "      <td>5.9</td>\n",
       "      <td>2015-08-14</td>\n",
       "      <td>474</td>\n",
       "    </tr>\n",
       "    <tr>\n",
       "      <th>21378</th>\n",
       "      <td>2015-11-25</td>\n",
       "      <td>1907</td>\n",
       "      <td>41.6</td>\n",
       "      <td>4.900000</td>\n",
       "      <td>7.1</td>\n",
       "      <td>2013-11-30</td>\n",
       "      <td>725</td>\n",
       "    </tr>\n",
       "    <tr>\n",
       "      <th>65647</th>\n",
       "      <td>2016-09-21</td>\n",
       "      <td>2156</td>\n",
       "      <td>26.8</td>\n",
       "      <td>4.000000</td>\n",
       "      <td>6.1</td>\n",
       "      <td>2016-08-13</td>\n",
       "      <td>39</td>\n",
       "    </tr>\n",
       "    <tr>\n",
       "      <th>55901</th>\n",
       "      <td>2016-07-18</td>\n",
       "      <td>2089</td>\n",
       "      <td>31.4</td>\n",
       "      <td>6.650000</td>\n",
       "      <td>9.8</td>\n",
       "      <td>2015-12-22</td>\n",
       "      <td>209</td>\n",
       "    </tr>\n",
       "    <tr>\n",
       "      <th>27489</th>\n",
       "      <td>2016-01-08</td>\n",
       "      <td>2091</td>\n",
       "      <td>43.1</td>\n",
       "      <td>1.466667</td>\n",
       "      <td>2.2</td>\n",
       "      <td>2016-01-03</td>\n",
       "      <td>5</td>\n",
       "    </tr>\n",
       "    <tr>\n",
       "      <th>17718</th>\n",
       "      <td>2015-10-31</td>\n",
       "      <td>1757</td>\n",
       "      <td>30.3</td>\n",
       "      <td>4.200000</td>\n",
       "      <td>5.6</td>\n",
       "      <td>2014-05-21</td>\n",
       "      <td>528</td>\n",
       "    </tr>\n",
       "    <tr>\n",
       "      <th>100920</th>\n",
       "      <td>2017-05-12</td>\n",
       "      <td>2052</td>\n",
       "      <td>37.5</td>\n",
       "      <td>4.800000</td>\n",
       "      <td>6.6</td>\n",
       "      <td>2016-10-16</td>\n",
       "      <td>208</td>\n",
       "    </tr>\n",
       "    <tr>\n",
       "      <th>8583</th>\n",
       "      <td>2015-08-29</td>\n",
       "      <td>1889</td>\n",
       "      <td>35.0</td>\n",
       "      <td>3.300000</td>\n",
       "      <td>4.4</td>\n",
       "      <td>2013-08-18</td>\n",
       "      <td>741</td>\n",
=======
       "    </tr>\n",
       "    <tr>\n",
       "      <th>date</th>\n",
       "      <th></th>\n",
       "      <th></th>\n",
       "      <th></th>\n",
       "      <th></th>\n",
       "    </tr>\n",
       "  </thead>\n",
       "  <tbody>\n",
       "    <tr>\n",
       "      <th>2017-06-01</th>\n",
       "      <td>2079</td>\n",
       "      <td>13.9</td>\n",
       "      <td>4.70</td>\n",
       "      <td>5.1</td>\n",
       "    </tr>\n",
       "    <tr>\n",
       "      <th>2016-12-29</th>\n",
       "      <td>1954</td>\n",
       "      <td>53.2</td>\n",
       "      <td>4.35</td>\n",
       "      <td>7.3</td>\n",
       "    </tr>\n",
       "    <tr>\n",
       "      <th>2016-01-01</th>\n",
       "      <td>2071</td>\n",
       "      <td>29.2</td>\n",
       "      <td>3.10</td>\n",
       "      <td>4.0</td>\n",
>>>>>>> master
       "    </tr>\n",
       "  </tbody>\n",
       "</table>\n",
       "</div>"
      ],
      "text/plain": [
<<<<<<< HEAD
       "             date  animal_id  milk_weight  average_flow  max_flow date_calved  \\\n",
       "23250  2015-12-09       1930         20.3      2.850000       3.6  2014-02-27   \n",
       "51725  2016-06-19       2103         30.7      2.750000       4.1  2016-01-16   \n",
       "76445  2016-11-30       2056         36.9      4.050000       5.9  2015-08-14   \n",
       "21378  2015-11-25       1907         41.6      4.900000       7.1  2013-11-30   \n",
       "65647  2016-09-21       2156         26.8      4.000000       6.1  2016-08-13   \n",
       "55901  2016-07-18       2089         31.4      6.650000       9.8  2015-12-22   \n",
       "27489  2016-01-08       2091         43.1      1.466667       2.2  2016-01-03   \n",
       "17718  2015-10-31       1757         30.3      4.200000       5.6  2014-05-21   \n",
       "100920 2017-05-12       2052         37.5      4.800000       6.6  2016-10-16   \n",
       "8583   2015-08-29       1889         35.0      3.300000       4.4  2013-08-18   \n",
       "\n",
       "        days_since_calving  \n",
       "23250                  650  \n",
       "51725                  155  \n",
       "76445                  474  \n",
       "21378                  725  \n",
       "65647                   39  \n",
       "55901                  209  \n",
       "27489                    5  \n",
       "17718                  528  \n",
       "100920                 208  \n",
       "8583                   741  "
      ]
     },
     "execution_count": 6,
=======
       "            animal_id  milk_weight  average_flow  max_flow\n",
       "date                                                      \n",
       "2017-06-01       2079         13.9          4.70       5.1\n",
       "2016-12-29       1954         53.2          4.35       7.3\n",
       "2016-01-01       2071         29.2          3.10       4.0"
      ]
     },
     "execution_count": 56,
>>>>>>> master
     "metadata": {},
     "output_type": "execute_result"
    }
   ],
   "source": [
<<<<<<< HEAD
    "s = add_days_since_calving(milk, calvings).dropna(how='any')\n",
    "s['days_since_calving'] = s['days_since_calving'].apply(lambda x: x.days)\n",
    "s.sample(10)"
=======
    "milk, weather, score = retrieve_data()\n",
    "milk = milk.set_index('date')\n",
    "milk.sample(3)"
   ]
  },
  {
   "cell_type": "code",
   "execution_count": 57,
   "metadata": {
    "collapsed": true
   },
   "outputs": [],
   "source": [
    "import random\n",
    "random_cow1 = random.choice(milk['animal_id'].unique())\n",
    "random_cow2 = random.choice(milk['animal_id'].unique())\n",
    "random_cow3 = random.choice(milk['animal_id'].unique())"
>>>>>>> master
   ]
  },
  {
   "cell_type": "code",
<<<<<<< HEAD
   "execution_count": 7,
=======
   "execution_count": 58,
>>>>>>> master
   "metadata": {
    "collapsed": true
   },
   "outputs": [],
   "source": [
<<<<<<< HEAD
    "s = s.groupby('days_since_calving').mean().reset_index()\n",
    "s = s[s['days_since_calving'] < 1000]"
=======
    "cow1 = milk[milk['animal_id'] == random_cow1]\n",
    "cow2 = milk[milk['animal_id'] == random_cow2]\n",
    "cow3 = milk[milk['animal_id'] == random_cow3]"
>>>>>>> master
   ]
  },
  {
   "cell_type": "code",
<<<<<<< HEAD
   "execution_count": 8,
=======
   "execution_count": 59,
>>>>>>> master
   "metadata": {},
   "outputs": [
    {
     "data": {
<<<<<<< HEAD
      "image/png": "iVBORw0KGgoAAAANSUhEUgAAAX8AAAEFCAYAAAAL/efAAAAABHNCSVQICAgIfAhkiAAAAAlwSFlz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\nohAS/gRBEFEICX+CIIgo5P8DH7ovWiweGfQAAAAASUVORK5CYII=\n",
      "text/plain": [
       "<matplotlib.figure.Figure at 0x1a1a328160>"
=======
      "image/png": "iVBORw0KGgoAAAANSUhEUgAAAW8AAAETCAYAAAD53IeuAAAABHNCSVQICAgIfAhkiAAAAAlwSFlz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\nrkJggg==\n",
      "text/plain": [
       "<matplotlib.figure.Figure at 0x1a20320390>"
      ]
     },
     "metadata": {},
     "output_type": "display_data"
    },
    {
     "data": {
      "image/png": "iVBORw0KGgoAAAANSUhEUgAAAW8AAAEWCAYAAACpERYdAAAABHNCSVQICAgIfAhkiAAAAAlwSFlz\nAAALEgAACxIB0t1+/AAAADl0RVh0U29mdHdhcmUAbWF0cGxvdGxpYiB2ZXJzaW9uIDIuMS4wLCBo\ndHRwOi8vbWF0cGxvdGxpYi5vcmcvpW3flQAAIABJREFUeJztnXlgVOXZ9q8z+z7ZF7KRQNgCyBIQ\nFXFDsbZWrVrqWkVt1baWWt/q28+KS1teuthW6v6+1gWhtXWjrSiC1FjBFEEQk7Akhuz7MpnMvpzv\njzPnzEwyyUwmmTMzmfv3V8gyczHJuc4913M/98OwLMuCIAiCSCok8RZAEARBTBwyb4IgiCSEzJsg\nCCIJIfMmCIJIQsi8CYIgkhAyb4IgiCREFsk3Pfvss/jggw/gcrlw3XXXYeXKlXjggQfAMAzKy8ux\nadMmSCR0HyAIghCLsI5bXV2Nzz77DDt27MArr7yCzs5ObN68GRs3bsT27dvBsiz27t0rhlaCIAjC\nR1jz/ve//405c+bge9/7Hu68806cf/75qKmpwcqVKwEAa9aswf79+2MulCAIgvATNjYZGBhAe3s7\nnnnmGbS2tuKuu+4Cy7JgGAYAoNVqYTabx30Mt9sDmUw6NYoJgiCI8OadlpaGsrIyKBQKlJWVQalU\norOzU/i6xWKBwWAY9zEGBqyTVxol2dl69PSMf3MhHaQj3pAO0jHW849F2Nhk+fLl+Oijj8CyLLq6\numCz2XDWWWehuroaAFBVVYXKysqpU0sQBEGEJWzlfcEFF+DgwYO45pprwLIsHnroIRQWFuJnP/sZ\nHn/8cZSVlWHdunViaCUIgiB8RNQq+JOf/GTU57Zt2zblYgiCIIjIoOZsgiCIJITMmyAIIgkh8yYI\ngkhCyLyJlMZqd8Hj9cZbBkFMGDJvImUxW5245dH3sOuT5nhLIYgJQ+ZNpCy9JjtsDg8aO4biLYUg\nJgyZN5Gy2BxuAIDJ4oyzEoKYOGTeRMoimPewI85KCGLikHkTKYs1oPJmWTbOaghiYpB5EymLzeEB\nALg9LCx2d5zVEMTEIPMmUhY+NgGAQYpOiCSDzJtIWQLN2zRMi5ZEckHmTaQsVqq8iSSGzJtIWSg2\nIZIZMm8iZaHYhEhmyLyJlCWo8qaNOkSSQeZNpCxWhwd6jQIMQxt1iOQjopN0CGI6YnO4odfIIWEo\nNiGSD6q8iZTF5nBDo5bDqFNg0OKgXZZEUkHmTaQkbo8XLrcXWpUMaTolnC4v7E5PvGURRMRQbEKk\nJHyPt0Ylh4zhPjc47IBaSZcEkRxQ5U2kJHyniVYlh1GnBEC5N5FcUJlBpCS8eWvUMhhU3GUwaKGO\nEyJ5IPMmUhKbPaDy1ioAUOVNJBcUmxApidU3DlajkiNNR+ZNJB9k3kRK4s+8ZTD6zJtiEyKZIPMm\nUhJ/5i2HUUsLlkTyQeZNpCSBlbdcJoFWJaPJgkRSQeZNpCSBfd4AkKZTUuVNJBVk3kRKIlTeas68\njToFrA43nC7aZUkkB2TeREoiZN6+Hm8h96bRsESSQOZNpCSBOywBULsgkXSQeRMpidXhgUzKQCGX\nAoCwRZ4WLYlkIaIdlldeeSX0ej0AoLCwEOvXr8cvfvELSKVSrF69Gt///vdjKpIgphqbwx00hIqv\nvMm8iWQhrHk7HNwf8yuvvCJ87oorrsDWrVtRVFSE73znO6ipqUFFRUXsVBLEFDPSvIUt8pR5E0lC\n2Njk+PHjsNls2LBhA26++WYcPHgQTqcTxcXFYBgGq1evxoEDB8TQShBTxujKm2ITIrkIW3mrVCrc\ndtttuPbaa3H69GnccccdMBgMwte1Wi1aWlrGfYz0dA1kMunk1UZJdrY+bs8dCOkIJl463B4vnG6v\nkHNnZ+uhM6gBADanN266Uv33MhLSMT5hzbu0tBQlJSVgGAalpaXQ6/UYHBwUvm6xWILMPBQDA9bJ\nK42S7Gw9enrMcXt+0pF4OsxWLhqRSbhTGHgdSoUU3f3WuOii3wvpGOv5xyJsbPK3v/0N//M//wMA\n6Orqgs1mg0ajQXNzM1iWxb///W9UVlZOnVqCiDF8m6BaGfxuME2rgImGUxFJQtjK+5prrsF///d/\n47rrrgPDMPjlL38JiUSC++67Dx6PB6tXr8YZZ5whhlaCmBJsvnGwI488M+qU6Bqwwe3xQialLloi\nsQlr3gqFAr/97W9Hff61116LiSCCiDXCXJMR5s23Cw5ZnMgwqETXRRATgcoLIuXwxyYjKm/aIk8k\nEWTeRMoxlnnTRh0imSDzJlKOsWITI803IZIIMm8i5RgzNqGNOkQSQeZNpBxjmbdBw1XewzaX6JoI\nYqKQeRMpx1h93jrfwQxk3kQyQOZNpBxWX5/3yMxbp+b+bbaSeROJD5k3kXKMPEWHRy6TQqmQwkKV\nN5EEkHkTKYfN4YZMykAeYliaXi2HmcybSALIvImUY+Q42EB0ajmGbS6wLCuyKoKYGGTeRMphHc+8\nNXK43F44XV6RVRHExCDzJibN5m2HsG33iXjLiJjxKm+9r+PEbKONOkRiE9EZlgQxFizL4lSrKWna\n69werqoe2WnCo1P7e72zjGoxpRHEhKDKm5gUbg8XLwwlyTAnuzP0OFgencbX603tgkSCQ+ZNTAqX\nmzNvi90tGLmYvH+wBS/uqov4+61jbNDh8ccmZN5EYkPmTUwK3rwB8Te3sCyLfx44jaqjHRiyRlb5\n2+yht8bzCLssqfImEhwyb2JSBJu3uNFJe68FQz6T7ei1RPQztjEmCvLoNVR5E8kBmTcxKVwBUUmk\n1e9UUdc0IHzc3hf6kOvte07i3epm4d9jDaXiofkmRLJA3SbEpAisvMVetAwy7xCVt9Xuwp5PW6GU\nS3HhsgIo5NKAzHusBUtft4nINyKCmChUeROTIqjytohXrXq9LE40DwoHKIQy75buYQCAw+VBzel+\nAOFjE61v3glV3kSiQ+ZNTAq3Oz6xSXO3GVaHG4vLMpFpUKG9b7R5N/vMGwAOn+gBED42kUkl0Chl\nlHkTCQ+ZNzEpghYsRYxN+Mhkfkk6ZmRpYRp2wmoPNtyWLs685TIJjtT3wu3xwuYYv88b4Hq9qduE\nSHTIvIlJEZR5i2h4vHnPK0lHfqYGwOhFy+ZuM+QyCc5ZlA+L3Y0TLYNh+7wBrtc7muFUXpaNS687\nkZqQeROTIjjzFqfydnu8ONViQn6mBmk6JWZkaQEE595ujxftvRYUZmuxYl4OAC46CZd5A4BWLYfH\nywpVeqS8/mED7v3jx6PeAYwFTS4kJgOZNzEpXHHIvBs7huBweTC/JB0AQpp3R58Vbg+Lohw95hQZ\noVPLcfhkj2Cs48UmeqFdMPj/80VjH+75w0do6jSP+hm3x4uqI+0YtrnwZftQRP+PX7xyCM+8/UVE\n30sQIyHzJiZFYOVttjpFqSaP85FJsc+8hdjEb94t3ZzBFufqIJVIsKQ8CyaLE/VtQ5BKGMhlY//p\nC/NNbO6gz9c09mPY5sLew62jfqauaQAW3+7NxhDmPhLTsANftg+hsSMyoyeIkZB5E5MisPJ2e1gh\nloglgXk3AGhUcqTpFEG7LJt9i5XFOXoAwLI52QC4tkG1UgaGYcZ8fN0YlXfPoB0AcPB4NxzO4Ejl\nP3VdwsenIzDkJp++iUYzBMFD5k1MCr5V0Kjl+q1jvWjpdHlQ3zaE4hydYLIAkJ+pRd+QA3Ynd/No\n6R4GA6Agm4tUKmamQ6ngFinHy7sBQO/bqDNyVkv3gA0A4HB6cOhkt/B5l9uLwyd7ka5XwqhV4HQE\nlXdzF/c9Noebsm8iKsi8iUnBV96ZRhWA2C9aNrSZ4PZ4haqbh8+9O/qsYFkWzV1mZKerhWxbLpPi\njFmZAMbPu4HQW+RZlkXPoE2YffLxsU7hazWN/bA53FgxLwel+QYMmB0wDTvGfY4mn3l7vCycbupQ\nISYOmTcxKfjMO8MgjnnXNfv7uwMJXLQcMDtgsbtRnKML+h4+OhmvTRAIbd5mqwsOlwezC4yYU2hE\nXdMAek1cJf6f41xksnJ+LmbmcTFNuOqbr7wBiBI1EdMPMm9iUgiVt0EJIPaTBRvauDy5vDAt6POB\ni5Z83l2Uqw/6nkVlmUjXK1E84vMjESYLBsQm3YOcUeekq3HOonwAwP4vOuF0efDZqV5kGVUozddj\nZn5487baXUJ+Doxt3v860oaOEDtHCQIg8yYmid+8ucrbFMPKm2VZtHQPIydNDY0qOPoQYpNeK5r5\nTpMRlbdaKcOWO8/C+gtnj/s8oSrvHt6809SonJcDhVyCj4914POGPjicHqycnwuGYVCSZwAw/qIl\nf3PhsYYw7+5BG15+9wTeOdA0rlYidSHzJibFSPOO5YEMA2YHhm0uFOXqRn1Nr1FAr5GjvdcibIsP\nVWHLpJJxO00AQKuSg0HwZMEe32JldhqXoy+fk4OeQTte/7ABALByPrcRyKhVIMOgxOlO85gLkXxk\nwi+mhqq8+XcwNGOFGIuIzLuvrw/nnXceGhoa0NTUhOuuuw7XX389Nm3aBK+XFltSGbeImTc/aGpk\nRc2Tn6lFz6ANX3YMQafm2gejQSJhoFXLg4yTj02y07lDiVcvygMAdA3YkJuhQVGAppl5BpgsTgwO\nh34t+MVKvk89VLug1dczbiHzJsYgrHm7XC489NBDUKm4i3Pz5s3YuHEjtm/fDpZlsXfv3piLJBIX\nvvJO0yvBMLHdZdniM72inNCZ9YwsLVhwFXpxri5shT0eOt98E56eQRsYxv8OY25JuvDxynk5Qc/l\nX7QMHZ00dw1DqZCixPfOIFTlzZs3jaYlxiKseW/ZsgXf+ta3kJPDvS2sqanBypUrAQBr1qzB/v37\nY6uQSGj4bhOlXAK9Wh7TPm9+PndxiNgE8C9aAv7NOdGi03Dm7fVFH92DNmQaVJBJuUtGwjBYW1kI\nhUyCsxfmBf2ssGjZMXrR0uHyoL3PguIcnTA7nDfqQPht/JYQXyMIIMxJOm+88QYyMjJw7rnn4rnn\nngPALRrxVYZWq4XZHH5DQnq6BjLZ+O1ZsSQ7e3IX8lQxLXX4/hZm5BmRblChd9AW8eNPVEdbnxV6\njRxzyrJCVtULZmUDe04BACpmZ01KR6ZRjfpWEzQ6FeQyCUzDTpxRHvyYN1y2AN+8ZB4U8uC/7eUa\nJYCjaO+3jnrsE039YFlg7swM5Odyi5uMb6t+0PdKuce02l3IzNRBIon+XcREmZZ/p5MgUXSMZFzz\nfv3118EwDA4cOIC6ujrcf//96O/vF75usVhgMBjCPsnAQOjzBcUgO1uPnp7wNxjSER1WmwsShkF/\nvwUapQwWuxvtHaZxZ4dEo8PmcKOj14L5Jeno7R0O+T0aud/gjGpZRI8/lg6FlHus0y0D8PjeXaRp\nFRFrzjKqcLJ5AN3dQ0E3mqMnuJ2Z2QYlHL7t93393PUR+Ng9/VyLoJcFmtsGoFX5d5PGkun6d5qs\nOsa7cYx7hb366qvYtm0bXnnlFcyfPx9btmzBmjVrUF1dDQCoqqpCZWXl1KolkgqX2ysYtUHLbyuf\n+ty7tcfXuz3GYiXAdXpolDLIpBLkZWjG/L5IEIZTWV3+xco0dcQ/PzPfALPVhf6h4J2W/ETCklw9\n1L7YJHTm7Y+faNGSCMWEWwXvv/9+bN26FevXr4fL5cK6detioYtIElyeAPPW8PNNIjdvh9ODPZ+2\nhF2Y4/Pu8cybYRhcsboUV51bKmTT0aJX+25ENqewoSZnAuZdOsaiZXOXGTIpgxlZWmHGSqg+78Cs\ne+R0Q4IAJnB6/CuvvCJ8vG3btpiIIZIPl9sTUHlz1epEDiLe/0UHtu85hQM1nbjvW0vHnDvSPE7v\ndiAXryiK+LnHQ9ioY3UF9XhHSuA2+eVzucV+t8eL1h4LCrJ1kEklUPk6GcfrNgEAS4SHOxCpBW3S\nISaF28NC7qty+Wl8E+n15g8uaOwwY+vrn8PlDj0itaWbq1jzMycXh0RK4C7LHtPEzbuEN++AnZbc\nARFelPi6ZWRSCRRyScjKO8i8KTYhQkDmTUwKl9sL2SQy7y87hqBSSLG0PAvHmwfxzNs18IzY+OXx\nchXrjCztpOOQSPEfyOBC94ANOrV81Jb88dCo5MhNV6O+fQifneoRJh0Cwe8e1EpZyMo7sNqmXm8i\nFGTexKRwub1C5T3RzNvmcKOzz4qZeXrceUUF5pek47NTvXjhn8eF/moA6Oq3weX2jpt3TzX8UWhD\nFid6TbYJVd08Fy0vhNPlwdbXj+EXrxzCJ7Xc9MGSAPPWKGUhd1gGGjr1ehOhIPMmJkVQt4nGb3iR\ncLrTDBZcZ4ZcJsUPrl6EshkGHKjpxIdH2oXv8w+aEq/flq+8W3qG4fawyE5TTfgx1lYW4dHbzsTy\nudn4sn0INY39YBigMOAmxFfegXNQvCwLq90tHB5BsQkRCjJvImo8Xi+8LCuYt36Cp+nweXBZPrdX\nQKWQ4fvfWASVQoo3PmwQ4gL/oCnxKm+1UgYJw6C1m+u3zkmfeOUNAAVZWnzvqkV46JZKLC3PwoXL\nCqEM2NSjVsrg8bJwuPzVt93hBgt/d8twiAXL/iE7frntEFq7Q/e8E9MfMm8iavi5Jrx5K+VSKBVS\nmCOsvPnDd/nt5ACQplPiitWlsNjdeKPqSwCRtQlONRKGgU4tE+KbaGKTQGbmGfCDqxfjhovnBH2e\n764J7i7hPuZvGJYQrYI1jf2obzXh8MmeSekikhcybyJqBPMOWEQ0aOQwRZh5N3YMwaCRCwOeeC5a\nXoj8TA0+/KwNpzuH0Nw9jEyDChqRdhny6DT+qYQT6fGeCBrl6GiEN/J0vRIyKROyVXDQd4PsHbKP\n+hqRGpB5E1EzsvIGuI6TYasraMExFANmO/qGHJiZbxg1p0QmleCGi+eABfC//6jDkMUpamTCE3jA\n8WQr77HQKLnnCNxRyX+sVcmhVclDdpvwZ2T2mci8UxUybyJq+FneskDz1ijg8bIhJ+UFcqplEIA/\n7x7JgpkZqJyXg/ZeLnMWMzLh4TtOZFIJ0vTKmDwHf56mJURsolHKoFXLQy5Ymnyzwsm8UxcybyJq\nQlXekW7UOdXMmffMMcwbANZfMBsKOffY4XZWxgK+4yQ7TQXJJGaDj4c/8w6ovH1tghqVDDqVDFa7\nG15v8DuZQYuv8h6yh32XQ0xPyLyJqOFneQdl3hFu1DnVwp0CX5o/tilnGlVYf8Fs5KSpUV5onKzc\nCcPHJrGKTAC/eQcuSvLvWrQqObRqOViMnn/CV94eLyt8TKQWkW8ZI4gRhMy8fdXqeAcRsyyLk82D\nyDKqhEp9LC5YVogLlhVOgdqJw8cmsVqsBOAfThU4RdD3sUYlE0bBWuwu4WbCsiwGh/3TCvtMdqTH\nKNYhEheqvImoCdltIlTeY/d695rsMFudKB0nMkkEjDrOEHMnOV52PITKe6zYJMRJ9ha7G26PPyrp\n9c1eIVILMm8iakJX3uEzb76/O9HNe9mcbFy/thyrF+XH7DlC9XkHxyajYxW+04SvtvuoXTAlIfMm\nooY378BuE/8uy0jMOzGPl+KRyyRYW1kkbFOPBfyBDBZbiNhEGRyb8PA93rMKuHUA6jhJTci8iagR\nFiwDzDtdp4SEYfB5Q9+YBt7YYYaE8Y9NTWU0ytHmbbO7IZUwUMglIWMTvvKeNYN759JL5p2SkHkT\nUeMOkXlrVDJ8ffVMDJgdeOatL0aNd/V6WTR1mlGUq4dKQevlKgV/0HBwn7dWJQPDMMIJ85Yg8+Zu\nirkZGmhVsqhikwGzQziSjUhOyLyJqAlVeQPA186eKczn/uu+BuHzLMuiuq4LDpcH5UXpompNVPgD\nGSwjdliqfXGJ1ld5B2begz7zTtMpkGlUoc9kD5pKGAkvv3scm7cdChqIRSQXZN5E1IRasAS4oU63\nf20B8jM12H2wBQe+6ER7rwWPv3YUz/+9FhKGwZqlBfGQnJColTKhVZBlWVgdbqHi5mOToMzbF5sY\ntUpkGdVwur2juns+b+jDI386OGZ0dbrTDKfbiwGzI+TXicSHzJuImlCtgjxqJTfeVa2U4k+76rDp\nhf+gprEfFTPT8chtK7HUd64jweXefGXtdHvh9rDCqT38gmXgWFjTsAMMuDND+aFeI6OTfx/rQFOX\nGXWnB0Y937DNJfThD1CnStJC5k1EzViVN09+phZ3XF4Bj5dFpkGFH1y9CPeuX4KCLK2YMhMevvJm\nWf9MGH4hUyGXQCaVBGXegxYn9FoFpBIJMo2ceY9ctPyy3QQAaO0ZPe+7LeBz/VR5Jy20YkREjSvE\nYKqRLJmdhd/cfQ70Grlo508mG/yBDE63V4hH+IqbYRho1bIRfd5O5PpmfWf5zDuwXXDA7ED/EGfK\nLSEOa+CHfQGRmTfLsnjp3eOYmWfA+RR3JQx0NRFRM15sEgg3l5r+1MaCr7JtDre/8g447Finkgum\nbnO44XB5hN2fQmwSYN5ftvtPrA9l3q0B5h1J5j1sc6HqaAc+ONwW8f+JiD10RRFREy42ISJDHca8\ntWq5MFmQz6rTdNxmKH9s4t8iz0cmGqUMA2bHqHng7T0BlXcEmTdfxXcPWGmCYQJBVx0RNe4xWgWJ\niSEMp3K4R8Um3McyYbIgv0GHr7y1KhlUCmnQgmVD+xAYBjizIhdAcMbNsizaei3ISVNDqZBGVHnz\nebrT7cUgZeQJA111RNT4K+/YbR9PBfgDGWwOt38olTK48ga4jToDPvPmK2+GYZBpVKHX1+vt8Xpx\numMIBVlalPu2zwdGJ0NWF4ZtLhRka5GhV0Zk3oE3hs5+62T+q8QUQuZNRE2kmTcxPv7YxBMwlCog\n8w7YIs/vrjRq/SNgMw0q2J0eWB1utHZb4HR7UTbDiELf6UOB5s1X4TOyOPMetrnCbtQJzNO7yLwT\nBrrqiKgZa4clMTECM2//LO/g2ATgNuqYhoMzbyC44+RL39CvWTMMyMvQQCZlgtoF23yLlQXZWqTr\nuZ8LF4UE5uJdAzR+NlGgq46IGmGqoDQ2R4SlCpqAsbC2MRYsAa7y5o8/MwaYd2Cv95dt3GJlWYER\nMqkEMzK1aOuxCMeo8W2CBVk6ZBi46j1cu2DvkF04Bo5ik8SBzJuIGpfbC5lUMur0d2JiqIMWLEPE\nJir/fJNQsUmWkev57jPZ0dA+BLVSivxM7gCJwhwdnG4vugY4023rsUDCMMjL0AjzwMN1nPSZ7MhO\nV0OnllNskkCQeRNR43J7KTKZAoJbBV1gAKhCLVjaXRgcdkCnlge97nyvd3OXGZ39VpTmG4RKuciX\ne7f2WIROk9wMNeQyiRCbjLdo6XB6MGxzIcugRG6GGj2DdqHLiIgvdOURUePykHlPBfyBDHy3iVop\nCzqtnq/C+QXLwMgE8Mcmh0/1AgDKZvgPaw5ctBwwO2BzuDHDN56Aj03GM+9+s114jrx0DbwsS/PD\nE4Sw2+M9Hg8efPBBNDY2QiqVYvPmzWBZFg888AAYhkF5eTk2bdoEiYQu4lTD7fZSp8kUoAlasHQH\n5d2Av9tkwOyA1eFGqTb4EAuDhqvEbb42Q/6QBgAoyvZV3t3DAXm3z7wjiE34TpMMg0q4oXT1W5EX\nw3M9kwmH0wOHyyOc3SomYa+8ffv2AQD+/Oc/45577sHmzZuxefNmbNy4Edu3bwfLsti7d2/MhRKJ\nB1XeUwN/IAO/w3KkefOxCW++/AYdHoZhhOgEAEoDzNugVcCoVaClexitPXynCWfoaqUMSvn4G3V6\nfcaeaVAJhk25t5/n/l6DB549EHIAWKwJe+WtXbsWjz32GACgvb0dWVlZqKmpwcqVKwEAa9aswf79\n+2OrkkhIKPOeGmRSCZQKqdBzHbi7EgCUcinkMgm6B7k2vZGxCeCPTnLS1MIh0DyFOTr0DdnR4OtE\n4WMThmGQYVCO223CV95ZRhVyfebdSe2CAj2DdtidHjzxt8/HPbc1FkQ0VVAmk+H+++/H+++/jyee\neAL79u0TOgy0Wi3M5vGPU0pP10AWx1142dmJcVbidNPh9nihUcmjfrzp9npMBu44M9+p8EbVKE16\njUKINwpzDaO+XpirR01jPxaUZY762pySDNQ09uPzL/sgkzJYOCdHGBSWm6FFR18PDGkaKOXcNRr4\n8xYnt4GnvDRLuGn0mx2ivGaJ8HsBxtfB73XoNdnx/D/q8Nh3zxatoIl4JOyWLVtw33334Zvf/CYc\nDv+d2mKxwGAwjPOTwMBA/N5mZWfr0dMT/7P6ppsOlmW5Pm+WjerxptvrMVk0KrkwAEoKjNLEb6Hn\nvj76Ndf6opeCTM2or2X5TNfl9qIgW4uBfv9gKq2K+7lTjb3ITdeMej3au8xgGMDrdMFs8iBdr0Rr\ntznmr1mi/F7C6bDaXcjL0KAwR4dPj3fj99s/xbcvnTdl7bPj3TjC3iLeeustPPvsswAAtVoNhmGw\ncOFCVFdXAwCqqqpQWVk5JUKJ5MEdwSxvInL4XBvAqNgE8Pd6A0DaiMwbAM5emIc1Z+TjzAW5o77G\nd5wAGHUQRoavXZC/cYykb8iONJ1/pG9ehgb9Qw46+9KH3emBWinFbV+dj5JcPaqOdmDvoVZRnjvs\nlXfJJZegtrYWN9xwA2677Tb89Kc/xUMPPYStW7di/fr1cLlcWLdunRhaiQSC5ppMLYGGPXLBEgg2\n97QQmXeGQYVbvjJf6EwJJD9TA6mEqwRHmne60C44uuPE4/ViwOwU8nQAQu7dTbk3PF4vXG4vVApu\n4fcHVy+CRinDPz9pEuX5w8YmGo0Gf/jDH0Z9ftu2bTERRCQHNMt7agk07JDmHfC5kd0m4ZBJJcjP\n1KK1ZxgzsnRBX+PbBUN1nAyanfCybFAnS57vBJ+ufquwAShVcfjWA/i1ggyDCsW5OhxvHoTL7Yn5\ntE268oiooKFUU0tgZR3KvPmKWq2UCmYxEcpm6MEwQEnuSPMeOzbpC2gT5MnhO06msF3Q7nSjuSv+\n+fZEsfvMWxWwHsG/SxkrhppK6MojooIq76kleIrg6OiDN/fAmSYT4ZrzZ+OnNy5HVpo66PPp4+yy\n5NsEA2MTodd7CpsQ/rqvAY+++Cl6B5MrirHx5h1wM+VvdL0RnFA0WejKI6KCMu+pJTAWCTyIYeTX\nQ+XdkaBTyzGrwDjq8xqlDAqLtuRVAAAgAElEQVS5RNgGH0ioyjvLyO207OqfGqNlWRZHG3rhZdmQ\n520mMnxsolL4f1+ZIQ6EjhV05RFRQbHJ1KIJs2DJxyYTzbvDwTAMMvSqMLGJ/zllUgmy01RTFpt0\nD9iE5062cbN2JzeOgN8hC/hvdJGcDTpZ6MojosJNscmUolUHTBEMEZvofbsm+TGuU0m670Qdlzu4\n/S9UbAJwHSfDNteog42jobZpQPi4oy+5zFtYsFSMzryp8iYSFsq8p5ZwlffsQiO+ecFsrF1eOOXP\nPVbHSd+Q3XfAcbCe3PSpy71rT/cLH3cEbB5KBoQFywDz5heA+0SovCPeYUkQgfhP0SHzngr4alsh\nl4R8TSUMg0vPLI7Jc6cbRndIsCyLviF7yOmBeRncomd3vw1F2TrUNPajrmkAqxfnozg38i3tXi+L\n400DyDQoIZNJ0dlnBcuySXO4hz828duoXCaBUasQZWwumTcRFZR5Ty18tR0qMok1oSrvYZsLTpc3\naLGSh9+o8+ZHX+Kl947D6eL+Fj490Y1Nt6yIOJdv7jbDYndj6ZxsWGwufNZvhdnqist41Wiwu0bH\nJgAXnTR1muH1spBIYncjoiuPiArqNpla+FbAUJFJrBGOQwvoOAnVacJTkKWFVMKg12RHpkGFy1aV\n4NKVxRgcduLpt76I+KSdutNc3r2gJB15mVPfPx5r7A7OvNUjzduggsfLwmSJ7ZTBpKq8LXYXjjcN\nYGl5dkzvaKFwuT348wf1OO+MGRN6azhdocp7auEz71BtgrEmg49NAirvsRYrAa7j5cGbK6GQczs3\nAS5m6TXZ8OmJHry2rx7Xr50T9nn5xcr5Jelwe7gDkjv6LJhTlDa5/5BI2EO0CgLBi5axWGDmSZor\nr77NhIdf+A+efPML7D7YIvrzf97Qh32H2/CvI+2iP3ciQguWU4tOLUdFaQaWzM4S/bl5gxkIyLz5\n8bShKm8AKMnTC8YNcC2Ht142HzOytNjzaSsO1HSO+5wutxenWgZRkK2FUacUKu9k6jhxuLjMe1Rs\nImzUie2mo4S/8rwsi12fNOF/th1Gv9kBuUyCXdVNQpuOWNT7Btkn2y6wWEGtglOLRMLgx+uX4Cur\nSkR/bq1KBoVMEpR5j1d5j4VaKcP3rloItVKKl3Ydx55PW2AaDr1NvKHNBKfbi/kl6QD8OzeTKjYJ\n0W0CBPZ6x3aLfEJfeS43d0LFX//VAL1Wjv/61lJ85cximK0ufHB48mMXDx7vxheNfRF9b32rz7zp\n8FUAlHlPJ7gTdVRo7RnGs29+ju5B27iZ93jkZ2px+9cWwONlsX3PKdz75Mf49Y7PUHW0PSgL5yOT\nBSUZALh3HgaNHB19ydMuaB8xmIpHrF7vhL7ymrqG8XlDHypKM/DIrSsxryQdl6woglopw67qZuHA\n1WjoHrTh2bdr8L9/rwXLsuN+r9PlwelObnBOr8kOb5jvTwX8mXf8Tkgipo6r1pTBqFPgH/9uxH8/\newBffNkHhUwCvWbi3S9Ly7Px67vPxnVry1E2w4C6pgG8uOs4Nm87hG5fb3jd6X5IGAZzi/35dl6m\nFr0m+6jNQomKPcQmHcB/w4t1r3dCL1jOLjDiV3edFXRytUYlx7qVRXjro0Z8cLgVXz1rZlSPveuT\nJnhZFkNWF9p7LcKhrKE43WmGx8sZttvjhWnYGdOFiGSAMu/pxYp5OVhanoUT7Wb89f0TaO4eRnGu\nLuqe6zSdEhdXFuHiyiL0mmx466NG7P+iEw//6SC+eeFsNHaYUTpDD3XAAm1+pgYnWwbRNWDDjPzE\nX7S0O91QKqSCN/FoVDKoldKYV94Jbd4AkGVUj/rcxZVFeP9gC96tbsaFywqD/gAiYcDswMfHOsAA\nYAEcbx4c17z5vDvLqEKvyY5ek43MW9ikkxwbKojwyKQSnL+sEAsKDWhoH4Ihiqo7FFlGNW7/2gJU\nzMzAy7tP4OV3TwDwRyY8+XzunSSLlg6nJ2iiYCCZBhV6TPaYbjpKyrJJrZThkpXFsNjd2BPFkUPv\n/acZbg+Lr57NLQ7VBcxXCAWfd6+qyAMA9A5S7k2tgtMXhmEwu8CInPTRuysnw1kL8/DwrStQksfN\nFl9SHtxZ4+84SY7c2+70jFqs5Mk0qOBwemCdRLQbjqS98tYuL4RWJcN71c0TmuBltjrxryNtyDAo\n8fVzSpFpUOFE88CYOTbLsqhvMyHToEJ5ITdSs9dEHSf+bhPKvInIyU3X4P/dtBy/uvNslOYHH1ye\n52s97EiSjhPOvEO/6xdj0TJpzVutlOHyc0phdbjxyIsHcaJ5/OqZ5/1PW+B0eXHpymLIpBLMK0mD\nxe5G6xizhDv7rRi2uVBeaESW7xfSQx0nlHkTUSOTSkK2IGYZVJBJJUkRm3hZFg6XZ9RiJY+waEnm\nHZqLKwtxw8VzYLW78Zs/H8HeQ63jdo5Y7W7sPdQGvUaOc8+YAQBCn+lY0Qmfd88q8Js39XoHxCbU\nKkhMERIJg7wMNTr6rWE7wOKNY4webx6h8o5hx0nCL1iOB8MwuGh5IQqztXjqrS/w6vsn8cWXfTDq\nFHC5Wbg8XiiVMkjBQqOUo2fQBpvDjavPKxN6M+cVc+Z9vGkA61aOntrG593lhUbIZVIYdeJMDEt0\nhAVLGS1YElNHXqYWrT0WUQ4zmAwOVxjzFqFdMKnNm2ducToe+vYK/PGNYzjaMP6mG61KhguX+Wci\nZxhUyElX42TrIDxeL6SS4Eqyvs0EpUKKQl83SrZRjS/bh0J+byrhcnshlTAp/RoQUw/fcdLaNYwZ\n6RPbICQmY+2u5BEj854W5g1wL9aD316Ozj4rpFIJ5FIJZDIJMjO0aGkfhM3hgc3hRnaaalRr4fyS\ndHx4pB1NncMom+FfRBm2udDRZ8WCmenCIKysNBXq20zoH3IgO210G2Oq4HJ7IaO8m5hi+I6T1p5E\nN+/Rs7wDMWgVkEkZqrwjRSqRjOrXTjeo4HZox/gJjnnFnHkfbx4IMm8+754dcHCrkHub7Klt3h4v\n5d3ElJPPm3e3GSvniD+kK1IcY2yN55H4zgbti+F8E7r6AMzzbdE9PmLRsqGNz7v9u734TUOpvmjp\ndnup04SYcvgBVWN1fyUKNj42UY7dKptpVGHI4ozZdn+6+sDNJ56RpcXJ1sGg4TmnWk1gGARV49nU\nLgiAKm8iNqgUMqTrlQlv3uFiEyBw0TI21TddfT7mFafB6fKisWMIbo8XR071orFjCIXZuqCMPMsX\nlaT6Rh0XVd5EjJiRqUHvoA1dCbxZR2gVHCM2AYAMAzdCI1aLlnT1+eD7vbe/fwr3/vFjPPH653C5\nvVhVkRv0fRkGJSQMk/Jb5GnBkogV5y0pAAC8svtEwvZ7h+s2AWLf6z2tFiwnw9zidEgYBk1dZhi0\nClxcWYRVFbmYmRd85JlUIkG6XkmVN1XeRIxYPjcblfNz8WldFz6p7cJZvplCiUQk5p0V412WZN4+\ndGo5fvytJfB6WcwrSRu3fzk7TYXjzYNwuT0pOdvD4/XCy7KUeRMxgWEY3PmNxbh7y178Ze8pLJ6V\nCa1qaiYcThVCt8l4mXeMK2+6+gKYX5KOitKMsBtPhI6TFF20pLkmRKzJzdDg66tLMWR14W//aoi3\nnFH4FyzHLt7S9SowQNDxclMJXX1RkJXm7/VORci8CTG4ZEURCrK1+PBIuzCmIlGwh9keD3DXxzfO\nK8O5Z+THRANdfVGQneK93m4Pt4hE5k3EEplUgm+vmwcAePHd40K1mwjYHeHNGwC+etZMrFoQm8x+\n3Mzb5XLhpz/9Kdra2uB0OnHXXXdh9uzZeOCBB8AwDMrLy7Fp0yZIUmy+RaYx1Stv7g9XRpk3EWNm\nFxpx0fJC7D3Uiv/9Rx3uvmrhqGPH4gF/IxlrJKwYjHv17dy5E2lpadi+fTuef/55PPbYY9i8eTM2\nbtyI7du3g2VZ7N27VyytCQO/LT5VN+pQbEKIyfoLZ2NecRoOn+zBWx81xlsOAG6qoFwmietgtnGf\n+dJLL8UPf/hD4d9SqRQ1NTVYuXIlAGDNmjXYv39/bBUmIEadAjKpJGVjE5rlTYiJTCrB3VctQk6a\nGv/Yfxqf1HbGW9K4R6CJxbixiVbLDXQaHh7GPffcg40bN2LLli3CgZparRZmsznsk6SnayCLY0td\ndrY+/DdNkNwMNfqGHBN67FjoiIbJ6ugZdgIAjAbVpB5rurweUwXpCCZQRzaAh79zFu57ogovvnMc\nc0uzMMc3i19MHTxOtxdatTyur1XYPu+Ojg5873vfw/XXX4/LL78cv/71r4WvWSwWGAyGcX6aY2Ag\nfttcs7P16OkJf4OZKOk6Jdp6LGhuHYjo9PpY6ZgoU6Gjp5ebO+FyuqN+rOn0epAOcXSoJMB3Lq/A\nH/52FE/85TNsumVFXHQA3KlcmQZVzF+r8W4O477v7e3txYYNG/Bf//VfuOaaawAACxYsQHV1NQCg\nqqoKlZWVUyg1ecgSYdh6okKZNxEvFs/KREGWFt1xLAhZloXd6R53oqAYjHv1PfPMMxgaGsJTTz2F\nm266CTfddBM2btyIrVu3Yv369XC5XFi3bp1YWhOKLGHRMvVyb8G8KfMm4oBBq4DN4YnZqNVwuNxe\nsGz4NsFYM+77/QcffBAPPvjgqM9v27YtZoKShRyfeZ9qMWFpeXac1YgLPzaXKm8iHhi1CgCAyeIU\ndjuLiT2CiYJiQFdflCwqy0S6Xok9h1ri+hYuHlBsQsQTQ4B5x4NIZnmLAV19UaJUSLH+wtlwe1j8\neW99vOWICt8qSJt0iHhg1HJzsofiZt78UCqqvJOWFfNyMLcoDUfqe/F5mFPrpxNUeRPxxKDlJgzG\nr/KObGt8rKGrbxIwDIPrL54DhgF27DkpmNp0h8ybiCd8bBLvypvMO8kpytHhwqWF6BqwYc+nLfGW\nIwrUbULEk3jHJg5hoiBl3knPlWtKoVPLsXP/6ZjN7k0khO3xKXgQBRF/4r5g6Qg/y1sMyLynAK1K\njqvPK4PD6cEbVYk3OH6qodiEiCd6tRwMQ7EJXX1TxLmLZ6AwW4v9xzrR3BX/7cWxhPq8iXgikTDQ\naxTxq7xd1G0yrZBIGKy/sBwsgL98UJ+wp15PBZR5E/HGoFHEsfKmPu9pR0VpBhaVZaKuaQBHp3Hr\nIMUmRLwx6hSwOz3C4qGYOCg2mZ5884JZYBjgr/vqhXhhusGbN23SIeKFQRO/dkHaHj9NKcjW4bwz\nZqCjz4oPj7THW05McFHmTcQZYxx7vQXzjmAUdCyhqy8GXHFuGVQKKd7+dyOs9sQ5NHWq8Ffe8T9L\nkEhN4rlRx8GfX0mV9/TDqFXgslUlGLa5sPfQ9Nu443J7IZdJhBOVCEJsjHHs9bY7PZBKmLi/8yTz\njhEXLS+EViXD7oMtsDmmV/Xtcnup04SIKwZdfGOTeC9WAmTeMUOtlOGSFUWw2N3Y91lbvOVMKW6P\nN+5VB5HaGDXxrbzJvKc5Fy0vglopw7vVzcKW2umARMJAo4rvYg2R2sQz87Y73XHv8QbIvGOKRiXD\nxZWFGLa58O4np+MtZ8q4/Wvz8Z3LK+Itg0hhdGo5JAwDkzUOC5YuqrxTgrWVRVAqpHh9Xz2ccdhQ\nEAtm5hlQkjf2qdYEEWu4LfJyDA2La95ujxduDxv3rfEAmXfM0anlWLu8EINmB6qOTs++b4KIB0at\nQvTK2z+UimKTlODiFVz1vau6edruuiQIsTFoFXA4PcJ2dTHwzzWhyjslMGgUuPaicni9LDye6Tuw\niiDERJjrLWL1nSjnVwJA/Gv/FGH92rm48IwZ8ZZBENOGwC3yOWlqUZ4zUWZ5A1R5EwSRpAiVt4iL\nlo4EGUoFkHkTBJGkCL3eosYmiTHLGyDzJggiSYnHZEGKTQiCICZJPA4iTqQFSzJvgiCSkvhU3hSb\nEARBTAqtb4u8mObNH7tGsQlBEESUSBgGeq0cJotDtOe0O8i8CYIgJo1Rq8CQxSXa89GCJUEQxBRg\n0CrgcHmELDrW8Oe3quN8fiVAOywJgkhiAhctxVhEXLu8ECW5euh9h0HEk4gq76NHj+Kmm24CADQ1\nNeG6667D9ddfj02bNsHrpUFLBEHEB/+hDOJEJ7MKjLj0zGJRniscYc37+eefx4MPPgiHg1sU2Lx5\nMzZu3Ijt27eDZVns3bs35iIJgiBC4T8OTbxFy0QhrHkXFxdj69atwr9ramqwcuVKAMCaNWuwf//+\n2KkjCIIYh3geRBxvwoZE69atQ2trq/BvlmXBMAwAQKvVwmw2h32S9HQNZLL4rc5mZyfGqS+kIxjS\nEQzpCCYSHcUz7AAAF8vETHeivB4jmXDCL5H4i3WLxQKDwRD2ZwYGrBN9mikjO1uPnp7wNxjSQTpI\nR/LpYN1c615njzkmuuP9eox345hwq+CCBQtQXV0NAKiqqkJlZWX0ygiCICaBMQ7zTRKFCZv3/fff\nj61bt2L9+vVwuVxYt25dLHQRBEGERauSQa/htsmnGhHFJoWFhXjttdcAAKWlpdi2bVtMRREEQUQC\nwzB4+NaVCbHjUWxokw5BEElNul4ZbwlxgbbHEwRBJCFk3gRBEEkImTdBEEQSQuZNEASRhJB5EwRB\nJCFk3gRBEEkImTdBEEQSwrAsy8ZbBEEQBDExqPImCIJIQsi8CYIgkhAyb4IgiCSEzJsgCCIJIfMm\nCIJIQsi8CYIgkhAyb4IgiCQkJc07UVrbE0UHEQz9XoLxer3xlgCAfi8jSUnzZhgmIf4QmDgf3eRy\nuYL+Ha/XJFF0OJ3cOYj87yVeOiwWS1yedywkEglYlo3b68HfPOJ9vdjtdng8HphMJgDxv5lIH374\n4YfjqkBEqqqq8Ne//hVarRZ5eXlx0/HOO+9g27Zt8Hg8kEql0Gg0kErFP8Zp69ateOONN2A2mzF/\n/vy4XRyJouP//u//YLVaYTQaoVKp4qbjkUceQX19PcrKyqBWq8GybFy0/P3vf8fLL78Mg8GAgoKC\nuL0e27dvx44dO2AymTA4OAij0QilUvzTcx555BHs2bMH7e3tqKiogFwuF11DIClj3k8++SQ+/vhj\nFBUVYceOHVixYgUGBweRlpYmqo6tW7fi2LFjWLp0KT788EMcP34ccrkcJSUloup46qmn0NnZiUsv\nvRTbtm0Dy7JYsGCBqBoSRQfLsujt7cXvf/979PT0wGw2AwCOHTuGkpISSCTivUH94x//CLlcjrPP\nPhsfffQRduzYAYvFgpycHKjVatF0PPHEEzh69CgqKirw1FNPYcGCBejs7ATLstDr9aLdULZu3YrG\nxkacf/75aGxsRENDA/r7+1FeXi5qwfP0009jeHgY69evx969e9Hc3IwVK1YAQNxurilxhqXNZsOR\nI0fw2GOPIS8vDx9//DGefvppVFVV4YYbbsBdd90lig6Xy4XW1lbcc889KCgowNe//nXs3LkTTz/9\nNJqamnDjjTeKosPpdKKhoQE/+clPkJubC6vViiNHjgAAurq60NPTg4ULF4qio76+Hvfff39cdTAM\ng+zsbFx66aVoaGiAx+PBr371KzAMg7lz56KoqCjmGgAuHhgcHMRtt92GHTt2ICsrC4sXL8Z//vMf\ntLa24vvf/74oOgL/PgoKCnDgwAH85S9/QUNDA8455xz88Ic/FMWsvF4vBgYGsGHDBsyaNQsXXHAB\n9u/fj7feegsmkwm33357zDUAgMfjQXt7O7773e+isLAQ1113HV5//XUAQEdHB06cOIHzzjtPdAOf\n9pm31+uFXC5HWVkZHn74Ybz88ss4ffo0fvnLX2LXrl04efIk2tvbRdEilUpRUlKChx56CDU1NVAo\nFLjmmmuwZcsW1NbWYnh4WBQdCoUCWVlZePHFFwEAy5YtQ319PQDg8ccfFz6OJSzLQi6XIy8vDy+8\n8ELcdAD+TPWiiy7CkiVLcO2112J4eBilpaV47bXX8OWXX4qiQyKRoLS0FD/60Y/Q2dmJm2++GTfc\ncAN+8pOfoLa2Fq2trTHXwLIsJBIJZs6ciTvvvBPPPfccjh49is2bN+PVV1/FyZMnceLEiZjrALib\naklJCX784x+juroacrkc5513Hn72s5/hiy++QHd3tyg6pFIpMjIy8OSTTwIAZs2ahZaWFgDcO4P+\n/v64VN4pEZtIpVLMmjULhYWFOHz4MIxGI77yla/gxIkT2L17N2655ZaYa/B6vZBIJFixYgX6+vpw\n6NAhtLW1IT8/H93d3Xj99ddx0003iaKDYRiceeaZWLBgAbRaLSQSCWpra9HZ2Yn6+nrce++9MdfB\nm8Ts2bNxySWXCIvIdXV16OrqEk0H/3sZHBzEjBkzsGfPHjz55JO46KKLcNddd8FkMuGss84SRQfD\nMJg/fz6ysrLw/vvv4/Dhw5g7dy5aW1uxe/duUSpNlmUhlUqxfPlynHHGGWhsbATDMLjssstQV1eH\nDz74AHfccUfMdbjdbkilUixZsgRSqRTvvvsuampqUFhYiPb2dvzzn//ErbfeKooOiUSCs846C8uW\nLYNarYZcLkdDQwOOHDmCtrY2/PjHP465jlBM+9jk2WefhcPhgEKhQGlpKW677Ta89NJLeOihh9Da\n2ipaZPLee++hoKAAixYtwje+8Q1UV1ejtrYWt9xyC+bMmYMf/ehHoukoLCxERUUFsrOzAQAajQaD\ng4PCOxMx+PWvfw2ZTIb+/n4UFBTg1ltvhV6vx9DQEDZt2oRXXnlFNB1yuRx9fX2YNWsWKisrYTKZ\ncNttt0GhUOCKK64QTYdEIoHJZIJcLsctt9yCzs5ObNiwAcuWLcPGjRtF1TEwMICFCxfiW9/6FpxO\nJ77zne9AJpPhu9/9rig6duzYgfz8fJx//vm49tprUVFRgQ8++AC33347Vq1aJcqNndcxY8YMrFmz\nBhkZGQAAmUwGqVSKP/7xj9i2bZsoOkIxrc377bffRl1dHS6//HI4nU4cPHgQ+/fvx9y5c7FgwQIw\nDIMlS5bEVAPLsjCbzXjrrbeQnp6OM888E6tWrcK6deuwbt06bNiwAS6XC1lZWaLqWLlyJZYuXYrS\n0lIAwM0334ysrCxhESaWvPPOO2hvb8ddd90Fm82Gt99+Gz/4wQ+wceNGfPvb30Z6erqoOu6++25Y\nLBbs3LkTVVVV+MpXvgKFQgGn0wmFQiGaDv71eOedd/Dmm29iw4YNePPNN+HxeGA0GkXVYbVa8eab\nb2Lv3r247LLLcNVVV8Hj8WDWrFkx1cCyLFwuF+rq6vDRRx+htrYW559/PhYvXowFCxbgjjvugMfj\ngUajEVVHTU0NVq9ejWXLlgEArr76arAsi8rKypjqGI9pbd61tbVYt24d1q5dC4vFgvnz5+Pjjz+G\nx+PB0qVLRdHAMAwMBgMAbuGjtbUVr732GhYuXIhFixYhJycnLjra29vR1taGefPmYfHixViyZIlo\nXR4NDQ1YunQp5s2bB6/Xi4qKCuzevRu7du3Cvffei/nz54uqY+7cuYKOffv2oba2FgBEMe5AHfPm\nzYPH48GCBQuwd+9eHDhwAOecc44oGkbq8Hq9WLhwIfbs2YNTp07h6quvFkUDwzBQKBTweDwoLi5G\nfn4+du7cicOHD+Pcc8+N+c1jPB3vvPMOPv/8c0HHfffdJ4qWsZjWmbdMJsPf/vY3LFy4ENnZ2UhP\nT0dBQQH+9Kc/oaSkBLm5uTHXwLcRpaWl4dJLL8Xs2bPR1dWFU6dOoa6uDnl5eaK0K47UMWvWLHR2\ndqKhoQG1tbUoKCgQ3hbGmvT0dLz77rvIz89HXl4epFIp5syZg5dffhl5eXkoLi6Oiw6ZTIbZs2fj\npZdeQmZmpmhdJqF0lJeX4+WXX46rDqlUivLycrz44oui6gCAnJwcLFy4EBUVFVAoFOjs7MS//vUv\n5OTkiHLdhtORm5srqo5QTGvzLioqQlNTEx599FF0dXVh2bJlaG5uxt69e3HHHXeI0ifKr0Lzfbo5\nOTlYsmQJlEol+vv7sWbNGlH6iMPpOPfcc0XrZ87MzERPTw9+85vfoK2tDXl5eTh27Bg++eQTIVuN\nt44777yTdMRJBwChqNHr9SgrK0NmZia0Wi1WrVolat99ougIxbQ9w5LvIgC4nuGf//znGBgYQHl5\nOc444wxceeWVomnhq16PxwOXywWVSgUAwg7LVNIx8vfyq1/9CgCQnZ2NxYsX47LLLiMdKawjUIvT\n6YTFYkF6ejoA8TfDJIqOsZh25u1yuYRtq7wpvfrqq7jooosgl8uRmZkpug7+j+C5557DqlWrsHjx\nYtH+ABJFRyD87+Wll17CqlWrUFxcLOruQdKR2Dr4v9OnnnoKS5cuFaVVM5F1jMW026Tz6quvoqur\nCwDX311fX4/t27cjMzNTNOMeqUMikaC+vh7/+Mc/UFFRAUC8ITuJouPzzz/HoUOH4PV6IZVK0dDQ\ngNdeew2zZs0S1SBIR+LrkEgkaGhowK5du7By5UrRNCSSjkiYVt0mb7zxBk6fPo3c3Fx0d3ejpqYG\nUqkUW7duhVwuFy0eGEvH73//e0il0pTTsX37dnzyySe44oorMDg4iNraWqSlpeGZZ56BTCYjHaQj\npI6nnnoqIf5OxdYRKdPGvB0OB55//nm88cYbePbZZ3H69GmYTCY0NTVhy5YtACDKC086gnG5XHj/\n/ffx+OOP44UXXkBVVRX6+vrQ3t6ORx55BEVFRaSDdJCOKJg23SbNzc2orq5GV1cXDh06hN/97ne4\n/PLLoVAo0NPTI8QEpEM8HSzLwmKx4OTJk5BKpaitrcVjjz2Gr371q2AYBu3t7Vi8eDHpIB2kIwqm\nTeZdVlaG+++/H52dnVi+fLnQ1lRcXIx9+/aRjjjo4DcGlZaWYufOndBqtejv7wcAzJw5E7t37yYd\npIN0RMm0iU0AoKKiAldddRUA7tSLY8eO4fnnnxdtdxjpCM369esxMDCAnTt3QiaTobi4GO+//z7W\nr19POkgH6YiSpI9NjlsmORIAAALvSURBVB8/jltvvRUlJSUoKSlBQUEBcnNzUVVVhd27dwsjPklH\nfHQUFxejtLQUZ555Js477zzU1dVBpVJh8eLF+PrXv046SAfpiJJp0ee9du1aOBwOlJSUYNOmTSgv\nLwfALdqJeVwS6Qito7i4GD/72c8wb948AMEbQkgH6SAd0ZH0lXdvby8GBgbwwgsvoK+vD48++ihO\nnz6NM888U9Q+VdIxto7+/n78/Oc/F3SINfCJdJCOZNERFew0oK6uju3u7mZZlmWHhobYe++9lz3/\n/PNZm81GOkgH6SAdSaFjoiRtbHLgwAE4nU643W6Ul5ePmkTX09MjHDZAOkgH6SAdiahjMiRlbHL8\n+HE88cQTsNvtMJlMeO+999DS0oI5c+ZAoVDA6/VCp9ORDtJBOkhHwuqYLElp3r/73e+wYsUK3H33\n3SgpKUFRURFOnTqF/v5+zJ8/X7R5HaSDdJAO0hEvktK8FQoFLBYLFi5cCJ1Oh6ysLKhUKvz9739H\nRUWFKEdGkQ7SQTpIR1yJd+g+Ud566y32xhtvZOfOnctu2LCB/fTTT4WvXX/99WxzczPpIB2kg3Qk\ntI6pIKl2WD799NNobGzE9ddfD5ZlUVJSggceeADz58+HVqvFvHnzRDmqiXSQDtJBOuJO3G4bE8Rs\nNrM33XST0NLz29/+lv3nP//JsizLvvrqq2x9fT3rcrlIB+kgHaQjYXVMJYm7fSgAlmWh0Wgwc+ZM\nfPbZZwC4XVEffPABAODQoUM4ceJEzM/YIx2kg3SQjkQhKdQyDAOGYXDllVciPz8fAJCRkQG1Wo2P\nP/4YDodDlDP2SAfpIB2kI2GIW80/BVxzzTXsqlWr2OrqatJBOkgH6UhKHdGSlK2CPAzDQKfT4cYb\nbyQdpIN0kI6k1BEtSbs9HuBOu3Y4HNBoNKSDdJAO0pGUOqIlqc2bIAgiVUmKbhOCIAgiGDJvgiCI\nJITMmyAIIgkh8yYIgkhCyLwJgiCSEDJvgiCIJOT/Aw2Igw7wORzZAAAAAElFTkSuQmCC\n",
      "text/plain": [
       "<matplotlib.figure.Figure at 0x1a20314358>"
      ]
     },
     "metadata": {},
     "output_type": "display_data"
    },
    {
     "data": {
      "image/png": "iVBORw0KGgoAAAANSUhEUgAAAXcAAAETCAYAAADNpUayAAAABHNCSVQICAgIfAhkiAAAAAlwSFlz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\n/FJ/AAAAAElFTkSuQmCC\n",
      "text/plain": [
       "<matplotlib.figure.Figure at 0x1a209c1080>"
>>>>>>> master
      ]
     },
     "metadata": {},
     "output_type": "display_data"
    }
   ],
   "source": [
<<<<<<< HEAD
    "_ = plt.plot(s['days_since_calving'], s['milk_weight'], marker='.', linestyle='none')\n",
    "_ = plt.margins(0.03)\n",
    "_ = plt.xlabel('Days Since Calving')\n",
    "_ = plt.ylabel('Milk Pounds')\n",
=======
    "plt.plot(cow1['milk_weight'].resample('W').mean())\n",
    "plt.xticks(rotation='60')\n",
    "plt.show()\n",
    "\n",
    "plt.plot(cow2['milk_weight'].resample('W').mean())\n",
    "plt.xticks(rotation='60')\n",
    "plt.show()\n",
    "\n",
    "plt.plot(cow3['milk_weight'].resample('W').mean())\n",
    "plt.xticks(rotation='60')\n",
>>>>>>> master
    "plt.show()"
   ]
  },
  {
<<<<<<< HEAD
=======
   "cell_type": "markdown",
   "metadata": {},
   "source": [
    "The gaps in production represents a cows 'dry period'.  The herd is intentionally kept in a contstant state of staggering for these dry period to keep overall output above a certain level.  The next question, rather than calendar date, is there  a visible pattern based on the days since a cow has given birth?  So... rather than calendar date, how about 'days since calving'."
   ]
  },
  {
   "cell_type": "code",
   "execution_count": 65,
   "metadata": {},
   "outputs": [
    {
     "ename": "AttributeError",
     "evalue": "'quoted_name' object has no attribute 'value'",
     "output_type": "error",
     "traceback": [
      "\u001b[0;31m---------------------------------------------------------------------------\u001b[0m",
      "\u001b[0;31mAttributeError\u001b[0m                            Traceback (most recent call last)",
      "\u001b[0;32m<ipython-input-65-5f4c32fe1803>\u001b[0m in \u001b[0;36m<module>\u001b[0;34m()\u001b[0m\n\u001b[1;32m      5\u001b[0m \u001b[0;31m#print(merged.info())\u001b[0m\u001b[0;34m\u001b[0m\u001b[0;34m\u001b[0m\u001b[0m\n\u001b[1;32m      6\u001b[0m \u001b[0;34m\u001b[0m\u001b[0m\n\u001b[0;32m----> 7\u001b[0;31m \u001b[0;32mfor\u001b[0m \u001b[0mrow\u001b[0m\u001b[0;34m.\u001b[0m\u001b[0mvalue\u001b[0m \u001b[0;32min\u001b[0m \u001b[0mmilk\u001b[0m\u001b[0;34m:\u001b[0m\u001b[0;34m\u001b[0m\u001b[0m\n\u001b[0m\u001b[1;32m      8\u001b[0m     \u001b[0mprint\u001b[0m\u001b[0;34m(\u001b[0m\u001b[0mrow\u001b[0m\u001b[0;34m)\u001b[0m\u001b[0;34m\u001b[0m\u001b[0m\n",
      "\u001b[0;31mAttributeError\u001b[0m: 'quoted_name' object has no attribute 'value'"
     ]
    }
   ],
   "source": [
    "#calvings = score[['animal_id', 'date_calved']].dropna(how='any').sort_values('date_calved')\n",
    "#calvings.head(10)\n",
    "##milk = milk.reset_index()\n",
    "#merged = pd.merge(left=milk, right=calvings, left_on='animal_id', right_on='animal_id')\n",
    "#print(merged.info())\n",
    "\n",
    "for row.value in milk:\n",
    "    print(row)\n"
   ]
  },
  {
   "cell_type": "code",
   "execution_count": 28,
   "metadata": {
    "collapsed": true
   },
   "outputs": [],
   "source": [
    "def days_since_calving(animal_id, in_date, calvings):\n",
    "    '''Returns the number of days that have passed since the most recent calving date '''\n",
    "    c = calvings[calvings['animal_id'] == animal_id] \n",
    "    if len(c) == 0: # No Calving dages\n",
    "        return np.NaN\n",
    "    \n",
    "    c['days_passed'] = c['date_calved'].apply(lambda x: (in_date - x).days)\n",
    "    c = c[c['days_passed'] > 0]\n",
    "    return c['days_passed'].min()"
   ]
  },
  {
   "cell_type": "code",
   "execution_count": 29,
   "metadata": {},
   "outputs": [
    {
     "name": "stdout",
     "output_type": "stream",
     "text": [
      "2074 2017-11-01 348\n"
     ]
    },
    {
     "name": "stderr",
     "output_type": "stream",
     "text": [
      "/anaconda3/lib/python3.6/site-packages/ipykernel_launcher.py:7: SettingWithCopyWarning: \n",
      "A value is trying to be set on a copy of a slice from a DataFrame.\n",
      "Try using .loc[row_indexer,col_indexer] = value instead\n",
      "\n",
      "See the caveats in the documentation: http://pandas.pydata.org/pandas-docs/stable/indexing.html#indexing-view-versus-copy\n",
      "  import sys\n"
     ]
    }
   ],
   "source": [
    "animal_id = 2074 #random.choice(milk['animal_id'].unique())\n",
    "test_date = '2017-11-01'\n",
    "r = days_since_calving(animal_id, pd.to_datetime(test_date), calvings)\n",
    "print(animal_id, test_date, r)"
   ]
  },
  {
   "cell_type": "code",
   "execution_count": 30,
   "metadata": {
    "collapsed": true
   },
   "outputs": [],
   "source": [
    "idx = pd.date_range('01-01-2015', '12-31-2017')\n",
    "dates = pd.DataFrame({'dates':idx})"
   ]
  },
  {
>>>>>>> master
   "cell_type": "code",
   "execution_count": null,
   "metadata": {
    "collapsed": true
   },
   "outputs": [],
   "source": []
  }
 ],
 "metadata": {
  "kernelspec": {
   "display_name": "Python 3",
   "language": "python",
   "name": "python3"
  },
  "language_info": {
   "codemirror_mode": {
    "name": "ipython",
    "version": 3
   },
   "file_extension": ".py",
   "mimetype": "text/x-python",
   "name": "python",
   "nbconvert_exporter": "python",
   "pygments_lexer": "ipython3",
   "version": "3.6.3"
  }
 },
 "nbformat": 4,
 "nbformat_minor": 2
}
